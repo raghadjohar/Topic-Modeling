{
  "cells": [
    {
      "cell_type": "code",
      "execution_count": null,
      "metadata": {
        "id": "LlrOcEZWVUup"
      },
      "outputs": [],
      "source": [
        "import numpy as np\n",
        "import tensorflow as tf\n",
        "from tensorflow.keras.preprocessing.text import Tokenizer\n",
        "from tensorflow.keras.preprocessing.sequence import pad_sequences\n",
        "from tensorflow.keras.models import Sequential\n",
        "from tensorflow.keras.layers import Embedding, LSTM, Dense\n",
        "import pandas as pd\n",
        "import matplotlib.pyplot as plt"
      ]
    },
    {
      "cell_type": "code",
      "execution_count": null,
      "metadata": {
        "colab": {
          "base_uri": "https://localhost:8080/"
        },
        "id": "dWsAZbQfVW0z",
        "outputId": "cae0f18a-12be-40de-9d29-7cb932a4b368"
      },
      "outputs": [
        {
          "output_type": "stream",
          "name": "stdout",
          "text": [
            "Mounted at /content/drive\n"
          ]
        }
      ],
      "source": [
        "import random\n",
        "from google.colab import drive\n",
        "drive.mount('/content/drive')\n",
        "\n",
        "file_path = '/content/drive/MyDrive/arabic_dataset_classifiction.csv'\n",
        "df1 = pd.read_csv(file_path)"
      ]
    },
    {
      "cell_type": "code",
      "execution_count": null,
      "metadata": {
        "colab": {
          "base_uri": "https://localhost:8080/"
        },
        "id": "-qRdLLkgZdsY",
        "outputId": "64e31666-f1d7-4533-aae2-40c0d6d78aa3"
      },
      "outputs": [
        {
          "output_type": "stream",
          "name": "stdout",
          "text": [
            "Number of rows: 111728\n",
            "Number of columns: 2\n"
          ]
        }
      ],
      "source": [
        "num_rows, num_columns = df1.shape\n",
        "\n",
        "print(\"Number of rows:\", num_rows)\n",
        "print(\"Number of columns:\", num_columns)"
      ]
    },
    {
      "cell_type": "code",
      "execution_count": null,
      "metadata": {
        "colab": {
          "base_uri": "https://localhost:8080/",
          "height": 430
        },
        "id": "YrQnn05dZgj3",
        "outputId": "f6c661ba-2b5b-479c-b1aa-26cdd6ff3294"
      },
      "outputs": [
        {
          "output_type": "display_data",
          "data": {
            "text/plain": [
              "<Figure size 640x480 with 1 Axes>"
            ],
            "image/png": "[encoded data removed]"
          },
          "metadata": {}
        }
      ],
      "source": [
        "plt.hist(df1['targe'], bins=range(6), align='left', rwidth=0.8, color='skyblue', edgecolor='black')\n",
        "plt.show()"
      ]
    },
    {
      "cell_type": "code",
      "execution_count": null,
      "metadata": {
        "colab": {
          "base_uri": "https://localhost:8080/"
        },
        "id": "kA7rHCAgZiWQ",
        "outputId": "d170a7d9-ec43-4e53-bfc4-8b1a111148f0"
      },
      "outputs": [
        {
          "output_type": "stream",
          "name": "stdout",
          "text": [
            "        targe target_named\n",
            "0           0      culture\n",
            "1           0      culture\n",
            "2           0      culture\n",
            "3           0      culture\n",
            "4           0      culture\n",
            "...       ...          ...\n",
            "111723      4        sport\n",
            "111724      4        sport\n",
            "111725      4        sport\n",
            "111726      4        sport\n",
            "111727      4        sport\n",
            "\n",
            "[111728 rows x 2 columns]\n"
          ]
        }
      ],
      "source": [
        "# Create a new column 'target_named' with the names of the classes\n",
        "class_names = { 0: 'culture', 1: 'diverse', 2: 'economy', 3:'politic', 4: 'sport'}\n",
        "df1['target_named'] = df1['targe'].map(class_names)\n",
        "\n",
        "print(df1[['targe', 'target_named']])"
      ]
    },
    {
      "cell_type": "code",
      "execution_count": null,
      "metadata": {
        "colab": {
          "base_uri": "https://localhost:8080/"
        },
        "id": "zwYjBLAWVY6U",
        "outputId": "b8108629-84a3-4ef2-fe18-9313a77ef5c1"
      },
      "outputs": [
        {
          "output_type": "stream",
          "name": "stdout",
          "text": [
            "                                                text  targe target_named\n",
            "0  بين أستوديوهات ورزازات وصحراء مرزوكة وآثار ولي...      0      culture\n",
            "1  قررت النجمة الأمريكية أوبرا وينفري ألا يقتصر ع...      0      culture\n",
            "2  أخبارنا المغربية الوزاني تصوير الشملالي ألهب ا...      0      culture\n",
            "3  اخبارنا المغربية قال ابراهيم الراشدي محامي سعد...      0      culture\n",
            "4  تزال صناعة الجلود في المغرب تتبع الطريقة التقل...      0      culture\n"
          ]
        }
      ],
      "source": [
        "df=df1[0:60000]\n",
        "print(df.head())"
      ]
    },
    {
      "cell_type": "code",
      "source": [
        "df.to_csv('subset_data.csv', index=False)"
      ],
      "metadata": {
        "id": "1ZSDMJoYtLD2"
      },
      "execution_count": null,
      "outputs": []
    },
    {
      "cell_type": "code",
      "source": [
        "df.head()"
      ],
      "metadata": {
        "colab": {
          "base_uri": "https://localhost:8080/",
          "height": 206
        },
        "id": "lJaiQ8_MtxkI",
        "outputId": "8225225e-af5a-4ec2-ef90-4a9b550ae987"
      },
      "execution_count": null,
      "outputs": [
        {
          "output_type": "execute_result",
          "data": {
            "text/plain": [
              "                                                text  targe target_named\n",
              "0  بين أستوديوهات ورزازات وصحراء مرزوكة وآثار ولي...      0      culture\n",
              "1  قررت النجمة الأمريكية أوبرا وينفري ألا يقتصر ع...      0      culture\n",
              "2  أخبارنا المغربية الوزاني تصوير الشملالي ألهب ا...      0      culture\n",
              "3  اخبارنا المغربية قال ابراهيم الراشدي محامي سعد...      0      culture\n",
              "4  تزال صناعة الجلود في المغرب تتبع الطريقة التقل...      0      culture"
            ],
            "text/html": [
              "\n",
              "  <div id=\"df-81cbc9ac-15bd-4789-abf9-520ff2f8b745\" class=\"colab-df-container\">\n",
              "    <div>\n",
              "<style scoped>\n",
              "    .dataframe tbody tr th:only-of-type {\n",
              "        vertical-align: middle;\n",
              "    }\n",
              "\n",
              "    .dataframe tbody tr th {\n",
              "        vertical-align: top;\n",
              "    }\n",
              "\n",
              "    .dataframe thead th {\n",
              "        text-align: right;\n",
              "    }\n",
              "</style>\n",
              "<table border=\"1\" class=\"dataframe\">\n",
              "  <thead>\n",
              "    <tr style=\"text-align: right;\">\n",
              "      <th></th>\n",
              "      <th>text</th>\n",
              "      <th>targe</th>\n",
              "      <th>target_named</th>\n",
              "    </tr>\n",
              "  </thead>\n",
              "  <tbody>\n",
              "    <tr>\n",
              "      <th>0</th>\n",
              "      <td>بين أستوديوهات ورزازات وصحراء مرزوكة وآثار ولي...</td>\n",
              "      <td>0</td>\n",
              "      <td>culture</td>\n",
              "    </tr>\n",
              "    <tr>\n",
              "      <th>1</th>\n",
              "      <td>قررت النجمة الأمريكية أوبرا وينفري ألا يقتصر ع...</td>\n",
              "      <td>0</td>\n",
              "      <td>culture</td>\n",
              "    </tr>\n",
              "    <tr>\n",
              "      <th>2</th>\n",
              "      <td>أخبارنا المغربية الوزاني تصوير الشملالي ألهب ا...</td>\n",
              "      <td>0</td>\n",
              "      <td>culture</td>\n",
              "    </tr>\n",
              "    <tr>\n",
              "      <th>3</th>\n",
              "      <td>اخبارنا المغربية قال ابراهيم الراشدي محامي سعد...</td>\n",
              "      <td>0</td>\n",
              "      <td>culture</td>\n",
              "    </tr>\n",
              "    <tr>\n",
              "      <th>4</th>\n",
              "      <td>تزال صناعة الجلود في المغرب تتبع الطريقة التقل...</td>\n",
              "      <td>0</td>\n",
              "      <td>culture</td>\n",
              "    </tr>\n",
              "  </tbody>\n",
              "</table>\n",
              "</div>\n",
              "    <div class=\"colab-df-buttons\">\n",
              "\n",
              "  <div class=\"colab-df-container\">\n",
              "    <button class=\"colab-df-convert\" onclick=\"convertToInteractive('df-81cbc9ac-15bd-4789-abf9-520ff2f8b745')\"\n",
              "            title=\"Convert this dataframe to an interactive table.\"\n",
              "            style=\"display:none;\">\n",
              "\n",
              "  <svg xmlns=\"http://www.w3.org/2000/svg\" height=\"24px\" viewBox=\"0 -960 960 960\">\n",
              "    <path d=\"M120-120v-720h720v720H120Zm60-500h600v-160H180v160Zm220 220h160v-160H400v160Zm0 220h160v-160H400v160ZM180-400h160v-160H180v160Zm440 0h160v-160H620v160ZM180-180h160v-160H180v160Zm440 0h160v-160H620v160Z\"/>\n",
              "  </svg>\n",
              "    </button>\n",
              "\n",
              "  <style>\n",
              "    .colab-df-container {\n",
              "      display:flex;\n",
              "      gap: 12px;\n",
              "    }\n",
              "\n",
              "    .colab-df-convert {\n",
              "      background-color: #E8F0FE;\n",
              "      border: none;\n",
              "      border-radius: 50%;\n",
              "      cursor: pointer;\n",
              "      display: none;\n",
              "      fill: #1967D2;\n",
              "      height: 32px;\n",
              "      padding: 0 0 0 0;\n",
              "      width: 32px;\n",
              "    }\n",
              "\n",
              "    .colab-df-convert:hover {\n",
              "      background-color: #E2EBFA;\n",
              "      box-shadow: 0px 1px 2px rgba(60, 64, 67, 0.3), 0px 1px 3px 1px rgba(60, 64, 67, 0.15);\n",
              "      fill: #174EA6;\n",
              "    }\n",
              "\n",
              "    .colab-df-buttons div {\n",
              "      margin-bottom: 4px;\n",
              "    }\n",
              "\n",
              "    [theme=dark] .colab-df-convert {\n",
              "      background-color: #3B4455;\n",
              "      fill: #D2E3FC;\n",
              "    }\n",
              "\n",
              "    [theme=dark] .colab-df-convert:hover {\n",
              "      background-color: #434B5C;\n",
              "      box-shadow: 0px 1px 3px 1px rgba(0, 0, 0, 0.15);\n",
              "      filter: drop-shadow(0px 1px 2px rgba(0, 0, 0, 0.3));\n",
              "      fill: #FFFFFF;\n",
              "    }\n",
              "  </style>\n",
              "\n",
              "    <script>\n",
              "      const buttonEl =\n",
              "        document.querySelector('#df-81cbc9ac-15bd-4789-abf9-520ff2f8b745 button.colab-df-convert');\n",
              "      buttonEl.style.display =\n",
              "        google.colab.kernel.accessAllowed ? 'block' : 'none';\n",
              "\n",
              "      async function convertToInteractive(key) {\n",
              "        const element = document.querySelector('#df-81cbc9ac-15bd-4789-abf9-520ff2f8b745');\n",
              "        const dataTable =\n",
              "          await google.colab.kernel.invokeFunction('convertToInteractive',\n",
              "                                                    [key], {});\n",
              "        if (!dataTable) return;\n",
              "\n",
              "        const docLinkHtml = 'Like what you see? Visit the ' +\n",
              "          '<a target=\"_blank\" href=https://colab.research.google.com/notebooks/data_table.ipynb>data table notebook</a>'\n",
              "          + ' to learn more about interactive tables.';\n",
              "        element.innerHTML = '';\n",
              "        dataTable['output_type'] = 'display_data';\n",
              "        await google.colab.output.renderOutput(dataTable, element);\n",
              "        const docLink = document.createElement('div');\n",
              "        docLink.innerHTML = docLinkHtml;\n",
              "        element.appendChild(docLink);\n",
              "      }\n",
              "    </script>\n",
              "  </div>\n",
              "\n",
              "\n",
              "<div id=\"df-3a6de0ac-62db-4a1b-8491-fb3dec5cbd88\">\n",
              "  <button class=\"colab-df-quickchart\" onclick=\"quickchart('df-3a6de0ac-62db-4a1b-8491-fb3dec5cbd88')\"\n",
              "            title=\"Suggest charts\"\n",
              "            style=\"display:none;\">\n",
              "\n",
              "<svg xmlns=\"http://www.w3.org/2000/svg\" height=\"24px\"viewBox=\"0 0 24 24\"\n",
              "     width=\"24px\">\n",
              "    <g>\n",
              "        <path d=\"M19 3H5c-1.1 0-2 .9-2 2v14c0 1.1.9 2 2 2h14c1.1 0 2-.9 2-2V5c0-1.1-.9-2-2-2zM9 17H7v-7h2v7zm4 0h-2V7h2v10zm4 0h-2v-4h2v4z\"/>\n",
              "    </g>\n",
              "</svg>\n",
              "  </button>\n",
              "\n",
              "<style>\n",
              "  .colab-df-quickchart {\n",
              "      --bg-color: #E8F0FE;\n",
              "      --fill-color: #1967D2;\n",
              "      --hover-bg-color: #E2EBFA;\n",
              "      --hover-fill-color: #174EA6;\n",
              "      --disabled-fill-color: #AAA;\n",
              "      --disabled-bg-color: #DDD;\n",
              "  }\n",
              "\n",
              "  [theme=dark] .colab-df-quickchart {\n",
              "      --bg-color: #3B4455;\n",
              "      --fill-color: #D2E3FC;\n",
              "      --hover-bg-color: #434B5C;\n",
              "      --hover-fill-color: #FFFFFF;\n",
              "      --disabled-bg-color: #3B4455;\n",
              "      --disabled-fill-color: #666;\n",
              "  }\n",
              "\n",
              "  .colab-df-quickchart {\n",
              "    background-color: var(--bg-color);\n",
              "    border: none;\n",
              "    border-radius: 50%;\n",
              "    cursor: pointer;\n",
              "    display: none;\n",
              "    fill: var(--fill-color);\n",
              "    height: 32px;\n",
              "    padding: 0;\n",
              "    width: 32px;\n",
              "  }\n",
              "\n",
              "  .colab-df-quickchart:hover {\n",
              "    background-color: var(--hover-bg-color);\n",
              "    box-shadow: 0 1px 2px rgba(60, 64, 67, 0.3), 0 1px 3px 1px rgba(60, 64, 67, 0.15);\n",
              "    fill: var(--button-hover-fill-color);\n",
              "  }\n",
              "\n",
              "  .colab-df-quickchart-complete:disabled,\n",
              "  .colab-df-quickchart-complete:disabled:hover {\n",
              "    background-color: var(--disabled-bg-color);\n",
              "    fill: var(--disabled-fill-color);\n",
              "    box-shadow: none;\n",
              "  }\n",
              "\n",
              "  .colab-df-spinner {\n",
              "    border: 2px solid var(--fill-color);\n",
              "    border-color: transparent;\n",
              "    border-bottom-color: var(--fill-color);\n",
              "    animation:\n",
              "      spin 1s steps(1) infinite;\n",
              "  }\n",
              "\n",
              "  @keyframes spin {\n",
              "    0% {\n",
              "      border-color: transparent;\n",
              "      border-bottom-color: var(--fill-color);\n",
              "      border-left-color: var(--fill-color);\n",
              "    }\n",
              "    20% {\n",
              "      border-color: transparent;\n",
              "      border-left-color: var(--fill-color);\n",
              "      border-top-color: var(--fill-color);\n",
              "    }\n",
              "    30% {\n",
              "      border-color: transparent;\n",
              "      border-left-color: var(--fill-color);\n",
              "      border-top-color: var(--fill-color);\n",
              "      border-right-color: var(--fill-color);\n",
              "    }\n",
              "    40% {\n",
              "      border-color: transparent;\n",
              "      border-right-color: var(--fill-color);\n",
              "      border-top-color: var(--fill-color);\n",
              "    }\n",
              "    60% {\n",
              "      border-color: transparent;\n",
              "      border-right-color: var(--fill-color);\n",
              "    }\n",
              "    80% {\n",
              "      border-color: transparent;\n",
              "      border-right-color: var(--fill-color);\n",
              "      border-bottom-color: var(--fill-color);\n",
              "    }\n",
              "    90% {\n",
              "      border-color: transparent;\n",
              "      border-bottom-color: var(--fill-color);\n",
              "    }\n",
              "  }\n",
              "</style>\n",
              "\n",
              "  <script>\n",
              "    async function quickchart(key) {\n",
              "      const quickchartButtonEl =\n",
              "        document.querySelector('#' + key + ' button');\n",
              "      quickchartButtonEl.disabled = true;  // To prevent multiple clicks.\n",
              "      quickchartButtonEl.classList.add('colab-df-spinner');\n",
              "      try {\n",
              "        const charts = await google.colab.kernel.invokeFunction(\n",
              "            'suggestCharts', [key], {});\n",
              "      } catch (error) {\n",
              "        console.error('Error during call to suggestCharts:', error);\n",
              "      }\n",
              "      quickchartButtonEl.classList.remove('colab-df-spinner');\n",
              "      quickchartButtonEl.classList.add('colab-df-quickchart-complete');\n",
              "    }\n",
              "    (() => {\n",
              "      let quickchartButtonEl =\n",
              "        document.querySelector('#df-3a6de0ac-62db-4a1b-8491-fb3dec5cbd88 button');\n",
              "      quickchartButtonEl.style.display =\n",
              "        google.colab.kernel.accessAllowed ? 'block' : 'none';\n",
              "    })();\n",
              "  </script>\n",
              "</div>\n",
              "\n",
              "    </div>\n",
              "  </div>\n"
            ],
            "application/vnd.google.colaboratory.intrinsic+json": {
              "type": "dataframe",
              "variable_name": "df",
              "summary": "{\n  \"name\": \"df\",\n  \"rows\": 59920,\n  \"fields\": [\n    {\n      \"column\": \"text\",\n      \"properties\": {\n        \"dtype\": \"string\",\n        \"num_unique_values\": 57720,\n        \"samples\": [\n          \"\\u0623\\u0641\\u0627\\u062f\\u062a \\u0627\\u0644\\u0645\\u0646\\u062f\\u0648\\u0628\\u064a\\u0629 \\u0627\\u0644\\u0633\\u0627\\u0645\\u064a\\u0629 \\u0644\\u0644\\u062a\\u062e\\u0637\\u064a\\u0637 \\u0628\\u0623\\u0646 \\u0627\\u0644\\u0631\\u0642\\u0645 \\u0627\\u0644\\u0627\\u0633\\u062a\\u062f\\u0644\\u0627\\u0644\\u064a \\u0644\\u0644\\u0623\\u062b\\u0645\\u0627\\u0646 \\u0639\\u0646\\u062f \\u0627\\u0644\\u0627\\u0633\\u062a\\u0647\\u0644\\u0627\\u0643 \\u0633\\u062c\\u0644 \\u062e\\u0644\\u0627\\u0644 \\u0634\\u0647\\u0631 \\u0634\\u062a\\u0646\\u0628\\u0631 \\u0627\\u0644\\u0645\\u0627\\u0636\\u064a \\u0627\\u0633\\u062a\\u0642\\u0631\\u0627\\u0631\\u0627 \\u0628\\u0627\\u0644\\u0645\\u0642\\u0627\\u0631\\u0646\\u0629 \\u0645\\u0639 \\u0627\\u0644\\u0634\\u0647\\u0631 \\u0627\\u0644\\u0633\\u0627\\u0628\\u0642 \\u0648\\u0631\\u062f\\u062a \\u0627\\u0644\\u0645\\u0646\\u062f\\u0648\\u0628\\u064a\\u0629 \\u0630\\u0644\\u0643 \\u0625\\u0644\\u0649 \\u0627\\u0631\\u062a\\u0641\\u0627\\u0639 \\u0627\\u0644\\u0631\\u0642\\u0645 \\u0627\\u0644\\u0627\\u0633\\u062a\\u062f\\u0644\\u0627\\u0644\\u064a \\u0644\\u0644\\u0645\\u0648\\u0627\\u062f \\u0627\\u0644\\u063a\\u0630\\u0627\\u0626\\u064a\\u0629 \\u0641\\u064a \\u0627\\u0644\\u0645\\u0626\\u0629 \\u0648\\u0627\\u0646\\u062e\\u0641\\u0627\\u0636 \\u0627\\u0644\\u0631\\u0642\\u0645 \\u0627\\u0644\\u0627\\u0633\\u062a\\u062f\\u0644\\u0627\\u0644\\u064a \\u0644\\u0644\\u0645\\u0648\\u0627\\u062f \\u063a\\u064a\\u0631 \\u0627\\u0644\\u063a\\u0630\\u0627\\u0626\\u064a\\u0629 \\u0641\\u064a \\u0627\\u0644\\u0645\\u0626\\u0629 \\u0648\\u062d\\u0633\\u0628 \\u0645\\u0630\\u0643\\u0631\\u0629 \\u0625\\u062e\\u0628\\u0627\\u0631\\u064a\\u0629 \\u0644\\u0640 \\u0645\\u0646\\u062f\\u0648\\u0628\\u064a\\u0629 \\u0627\\u0644\\u062d\\u0644\\u064a\\u0645\\u064a \\u0641\\u0625\\u0646 \\u0627\\u0631\\u062a\\u0641\\u0627\\u0639\\u0627\\u062a \\u0627\\u0644\\u0645\\u0648\\u0627\\u062f \\u0627\\u0644\\u063a\\u0630\\u0627\\u0626\\u064a\\u0629 \\u0627\\u0644\\u0645\\u0633\\u062c\\u0644\\u0629 \\u0645\\u0627 \\u0628\\u064a\\u0646 \\u0634\\u0647\\u0631\\u064a \\u063a\\u0634\\u062a \\u0648\\u0634\\u062a\\u0646\\u0628\\u0631 \\u0647\\u0645\\u062a \\u0623\\u062b\\u0645\\u0627\\u0646 \\u0627\\u0644\\u062e\\u0636\\u0631 \\u0628\\u0640 \\u0641\\u064a \\u0627\\u0644\\u0645\\u0626\\u0629 \\u0648\\u0627\\u0644\\u0628\\u0646 \\u0648\\u0627\\u0644\\u0634\\u0627\\u064a \\u0648\\u0627\\u0644\\u0643\\u0627\\u0643\\u0627\\u0648 \\u0641\\u064a \\u0627\\u0644\\u0645\\u0626\\u0629 \\u0648\\u0639\\u0644\\u0649 \\u0627\\u0644\\u0639\\u0643\\u0633 \\u0645\\u0646 \\u0630\\u0644\\u0643 \\u0627\\u0646\\u062e\\u0641\\u0636\\u062a \\u0623\\u062b\\u0645\\u0627\\u0646 \\u0627\\u0644\\u0641\\u0648\\u0627\\u0643\\u0647 \\u0628\\u0640 \\u0641\\u064a \\u0627\\u0644\\u0645\\u0626\\u0629 \\u0648\\u0627\\u0644\\u0633\\u0645\\u0643 \\u0648\\u0641\\u0648\\u0627\\u0643\\u0647 \\u0627\\u0644\\u0628\\u062d\\u0631 \\u0628\\u0640 \\u0641\\u064a \\u0627\\u0644\\u0645\\u0626\\u0629 \\u0648\\u0627\\u0644\\u0644\\u062d\\u0648\\u0645 \\u0628\\u0640 \\u0641\\u064a \\u0627\\u0644\\u0645\\u0626\\u0629 \\u0648\\u0623\\u0648\\u0636\\u062d\\u062a \\u0627\\u0644\\u0645\\u0630\\u0643\\u0631\\u0629 \\u0623\\u0646\\u0647 \\u0641\\u064a \\u0645\\u0627 \\u064a\\u062e\\u0635 \\u0627\\u0644\\u0645\\u0648\\u0627\\u062f \\u063a\\u064a\\u0631 \\u0627\\u0644\\u063a\\u0630\\u0627\\u0626\\u064a\\u0629 \\u0641\\u0625\\u0646 \\u0627\\u0644\\u0627\\u0646\\u062e\\u0641\\u0627\\u0636 \\u0647\\u0645 \\u0623\\u062b\\u0645\\u0627\\u0646 \\u0627\\u0644\\u0645\\u062d\\u0631\\u0648\\u0642\\u0627\\u062a \\u0628\\u0640 \\u0641\\u064a \\u0627\\u0644\\u0645\\u0626\\u0629 \\u0648\\u0623\\u0634\\u0627\\u0631 \\u0627\\u0644\\u0645\\u0635\\u062f\\u0631 \\u0625\\u0644\\u0649 \\u0623\\u0646 \\u0627\\u0644\\u0631\\u0642\\u0645 \\u0627\\u0644\\u0627\\u0633\\u062a\\u062f\\u0644\\u0627\\u0644\\u064a \\u0633\\u062c\\u0644 \\u0623\\u0647\\u0645 \\u0627\\u0644\\u0627\\u0631\\u062a\\u0641\\u0627\\u0639\\u0627\\u062a \\u0641\\u064a \\u0627\\u0644\\u0639\\u064a\\u0648\\u0646 \\u0628\\u0640 \\u0641\\u064a \\u0627\\u0644\\u0645\\u0626\\u0629 \\u0648\\u0648\\u062c\\u062f\\u0629 \\u0641\\u064a \\u0627\\u0644\\u0645\\u0626\\u0629 \\u0648\\u0633\\u0637\\u0627\\u062a \\u0641\\u064a \\u0627\\u0644\\u0645\\u0626\\u0629 \\u0648\\u0643\\u0644\\u0645\\u064a\\u0645 \\u0648\\u0628\\u0646\\u064a \\u0645\\u0644\\u0627\\u0644 \\u0641\\u064a \\u0627\\u0644\\u0645\\u0626\\u0629 \\u0648\\u0639\\u0644\\u0649 \\u0627\\u0644\\u0639\\u0643\\u0633 \\u0645\\u0646 \\u0630\\u0644\\u0643 \\u0633\\u062c\\u0644 \\u0647\\u0630\\u0627 \\u0627\\u0644\\u0631\\u0642\\u0645 \\u0627\\u0646\\u062e\\u0641\\u0627\\u0636\\u0627\\u062a \\u0623\\u0647\\u0645\\u0647\\u0627 \\u0641\\u064a \\u0627\\u0644\\u062f\\u0627\\u062e\\u0644\\u0629 \\u0628\\u0640 \\u0641\\u064a \\u0627\\u0644\\u0645\\u0626\\u0629 \\u0648\\u0641\\u064a \\u0643\\u0644 \\u0645\\u0646 \\u0627\\u0644\\u062f\\u0627\\u0631 \\u0627\\u0644\\u0628\\u064a\\u0636\\u0627\\u0621 \\u0648\\u0641\\u0627\\u0633 \\u0648\\u0627\\u0644\\u0642\\u0646\\u064a\\u0637\\u0631\\u0629 \\u0648\\u0645\\u0643\\u0646\\u0627\\u0633 \\u0648\\u062a\\u0637\\u0648\\u0627\\u0646 \\u0648\\u0627\\u0644\\u062d\\u0633\\u064a\\u0645\\u0629 \\u0628\\u0640 \\u0641\\u064a \\u0627\\u0644\\u0645\\u0626\\u0629 \\u0648\\u0628\\u0627\\u0644\\u0645\\u0642\\u0627\\u0631\\u0646\\u0629 \\u0645\\u0639 \\u0646\\u0641\\u0633 \\u0627\\u0644\\u0634\\u0647\\u0631 \\u0645\\u0646 \\u0627\\u0644\\u0633\\u0646\\u0629 \\u0627\\u0644\\u0633\\u0627\\u0628\\u0642\\u0629 \\u0633\\u062c\\u0644 \\u0627\\u0644\\u0631\\u0642\\u0645 \\u0627\\u0644\\u0627\\u0633\\u062a\\u062f\\u0644\\u0627\\u0644\\u064a \\u0644\\u0644\\u0623\\u062b\\u0645\\u0627\\u0646 \\u0639\\u0646\\u062f \\u0627\\u0644\\u0627\\u0633\\u062a\\u0647\\u0644\\u0627\\u0643 \\u0627\\u0631\\u062a\\u0641\\u0627\\u0639\\u0627 \\u0628\\u0640 \\u0641\\u064a \\u0627\\u0644\\u0645\\u0626\\u0629 \\u062e\\u0644\\u0627\\u0644 \\u0634\\u0647\\u0631 \\u0634\\u062a\\u0646\\u0628\\u0631 \\u0648\\u0642\\u062f \\u0646\\u062a\\u062c \\u0647\\u0630\\u0627 \\u0627\\u0644\\u0627\\u0631\\u062a\\u0641\\u0627\\u0639 \\u0639\\u0646 \\u062a\\u0632\\u0627\\u064a\\u062f \\u0623\\u062b\\u0645\\u0627\\u0646 \\u0627\\u0644\\u0645\\u0648\\u0627\\u062f \\u0627\\u0644\\u063a\\u0630\\u0627\\u0626\\u064a\\u0629 \\u0628\\u0640 \\u0641\\u064a \\u0627\\u0644\\u0645\\u0626\\u0629 \\u0648\\u062a\\u0631\\u0627\\u062c\\u0639 \\u0623\\u062b\\u0645\\u0627\\u0646 \\u0627\\u0644\\u0645\\u0648\\u0627\\u062f \\u063a\\u064a\\u0631 \\u0627\\u0644\\u063a\\u0630\\u0627\\u0626\\u064a\\u0629 \\u0641\\u064a \\u0627\\u0644\\u0645\\u0626\\u0629 \\u0648\\u062a\\u0631\\u0627\\u0648\\u062d\\u062a \\u0646\\u0633\\u0628 \\u0627\\u0644\\u062a\\u063a\\u064a\\u0631 \\u0644\\u0644\\u0645\\u0648\\u0627\\u062f \\u063a\\u064a\\u0631 \\u0627\\u0644\\u063a\\u0630\\u0627\\u0626\\u064a\\u0629 \\u0645\\u0627 \\u0628\\u064a\\u0646 \\u0627\\u0646\\u062e\\u0641\\u0627\\u0636 \\u0642\\u062f\\u0631\\u0647 \\u0641\\u064a \\u0627\\u0644\\u0645\\u0626\\u0629 \\u0628\\u0627\\u0644\\u0646\\u0633\\u0628\\u0629 \\u0644\\u0644\\u0646\\u0642\\u0644 \\u0648\\u0627\\u0631\\u062a\\u0641\\u0627\\u0639 \\u0642\\u062f\\u0631\\u0647 \\u0641\\u064a \\u0627\\u0644\\u0645\\u0626\\u0629 \\u0628\\u0627\\u0644\\u0646\\u0633\\u0628\\u0629 \\u0644\\u0644\\u0645\\u0637\\u0627\\u0639\\u0645 \\u0648\\u0641\\u0646\\u0627\\u062f\\u0642 \\u0645\\u0624\\u0634\\u0631 \\u0627\\u0644\\u062a\\u0636\\u062e\\u0645 \\u0627\\u0644\\u0623\\u0633\\u0627\\u0633\\u064a \\u0627\\u0644\\u0630\\u064a \\u064a\\u0633\\u062a\\u062b\\u0646\\u064a \\u0627\\u0644\\u0645\\u0648\\u0627\\u062f \\u0630\\u0627\\u062a \\u0627\\u0644\\u0623\\u062b\\u0645\\u0627\\u0646 \\u0627\\u0644\\u0645\\u062d\\u062f\\u062f\\u0629 \\u0648\\u0627\\u0644\\u0645\\u0648\\u0627\\u062f \\u0630\\u0627\\u062a \\u0627\\u0644\\u062a\\u0642\\u0644\\u0628\\u0627\\u062a \\u0627\\u0644\\u0639\\u0627\\u0644\\u064a\\u0629 \\u0642\\u062f \\u0639\\u0631\\u0641 \\u062e\\u0644\\u0627\\u0644 \\u0634\\u0647\\u0631 \\u0634\\u062a\\u0646\\u0628\\u0631 \\u0627\\u0633\\u062a\\u0642\\u0631\\u0627\\u0631\\u0627 \\u0628\\u0627\\u0644\\u0645\\u0642\\u0627\\u0631\\u0646\\u0629 \\u0645\\u0639 \\u0634\\u0647\\u0631 \\u063a\\u0634\\u062a \\u0648\\u0627\\u0631\\u062a\\u0641\\u0627\\u0639\\u0627 \\u0628\\u0640 \\u0641\\u064a \\u0627\\u0644\\u0645\\u0626\\u0629 \\u0628\\u0627\\u0644\\u0645\\u0642\\u0627\\u0631\\u0646\\u0629 \\u0645\\u0639 \\u0634\\u0647\\u0631 \\u0634\\u062a\\u0646\\u0628\\u0631\",\n          \"\\u0623\\u062e\\u0628\\u0627\\u0631\\u0646\\u0627 \\u0627\\u0644\\u0645\\u063a\\u0631\\u0628\\u064a\\u0629 \\u0633\\u0646\\u0627\\u0621 \\u0627\\u0644\\u0648\\u0631\\u062f\\u064a \\u0635\\u0627\\u062f\\u0642 \\u0645\\u062c\\u0644\\u0633 \\u0627\\u0644\\u0646\\u0648\\u0627\\u0628 \\u0627\\u0644\\u0645\\u063a\\u0631\\u0628\\u064a \\u064a\\u0648\\u0645 \\u0627\\u0644\\u062e\\u0645\\u064a\\u0633 \\u0627\\u0644\\u0645\\u0646\\u0635\\u0631\\u0645 \\u0639\\u0644\\u0649 \\u0628\\u0646\\u062f \\u062c\\u0627\\u0621 \\u0628\\u0647 \\u0642\\u0627\\u0646\\u0648\\u0646 \\u0627\\u0644\\u0645\\u0627\\u0644\\u064a\\u0629 \\u0627\\u0644\\u062c\\u062f\\u064a\\u062f\\u0629 \\u0648\\u064a\\u0633\\u062a\\u0647\\u062f\\u0641 \\u062e\\u0627\\u0642 \\u0636\\u0631\\u064a\\u0628\\u0629 \\u062c\\u062f\\u064a\\u062f\\u0629 \\u062e\\u0627\\u0635\\u0629 \\u0628\\u0627\\u0644\\u0633\\u064a\\u0627\\u0631\\u0627\\u062a \\u0627\\u0644\\u0641\\u0627\\u0631\\u0647\\u0629 \\u0627\\u0644\\u0636\\u0631\\u064a\\u0628\\u0629 \\u0627\\u0644\\u062c\\u062f\\u064a\\u062f\\u0629 \\u0633\\u062a\\u0647\\u0645 \\u0627\\u0644\\u0633\\u064a\\u0627\\u0631\\u0627\\u062a \\u0627\\u0644\\u062a\\u064a \\u064a\\u0641\\u0648\\u0642 \\u062b\\u0645\\u0646\\u0647\\u0627 \\u0645\\u0644\\u064a\\u0648\\u0646 \\u0633\\u0646\\u062a\\u064a\\u0645 \\u062d\\u064a\\u062b \\u0633\\u062a\\u062c\\u0628\\u0631 \\u0643\\u0644 \\u0645\\u0634\\u062a\\u0631 \\u0644\\u0633\\u064a\\u0627\\u0631\\u0629 \\u064a\\u062a\\u062c\\u0627\\u0648\\u0632 \\u0627\\u0644\\u0645\\u0628\\u0644\\u063a \\u0627\\u0644\\u0645\\u0630\\u0643\\u0648\\u0631 \\u0648\\u064a\\u0642\\u0644 \\u0639\\u0646 \\u0645\\u0644\\u064a\\u0648\\u0646 \\u0639\\u0644\\u0649 \\u062f\\u0641\\u0639 \\u0636\\u0631\\u064a\\u0628\\u0629 \\u0642\\u062f\\u0631\\u0647\\u0627 \\u0641\\u064a \\u0627\\u0644\\u0645\\u0627\\u0626\\u0629 \\u0645\\u0646 \\u0642\\u064a\\u0645\\u0629 \\u0627\\u0644\\u0633\\u064a\\u0627\\u0631\\u0629 \\u0648\\u062a\\u0631\\u062a\\u0641\\u0639 \\u0627\\u0644\\u0646\\u0633\\u0628\\u0629 \\u0625\\u0644\\u0649 \\u0641\\u064a \\u0627\\u0644\\u0645\\u0627\\u0626\\u0629 \\u0625\\u0630\\u0627 \\u062a\\u0631\\u0627\\u0648\\u062d \\u0627\\u0644\\u062b\\u0645\\u0646 \\u0645\\u0627 \\u0628\\u064a\\u0646 \\u0628\\u064a\\u0646\\u0645\\u0627 \\u0633\\u064a\\u062f\\u0641\\u0639 \\u0643\\u0644 \\u0645\\u0646 \\u0627\\u0634\\u062a\\u0631\\u0649 \\u0633\\u064a\\u0627\\u0631\\u0629 \\u0633\\u0641\\u0648\\u0642 \\u0645\\u0644\\u064a\\u0648\\u0646 \\u0641\\u064a \\u0627\\u0644\\u0645\\u0627\\u0626\\u0629 \\u0645\\u0646 \\u0642\\u064a\\u0645\\u062a\\u0647\\u0627 \\u0643\\u0636\\u0631\\u064a\\u0628\\u0629 \\u0644\\u0644\\u062f\\u0648\\u0644\\u0629\",\n          \"\\u0634\\u0642\\u064a\\u0642\\u062a\\u0627\\u0646 \\u0636\\u0628\\u0637\\u062a \\u0628\\u062d\\u0648\\u0632\\u062a\\u0647\\u0645\\u0627 \\u0635\\u0648\\u0631\\u062a\\u0627\\u0646 \\u0645\\u0646 \\u0635\\u0641\\u062d\\u0629 \\u0644\\u062c\\u0648\\u0627\\u0632 \\u0633\\u0641\\u0631 \\u0644\\u0627\\u062c\\u0626\\u0629 \\u0633\\u0648\\u0631\\u064a\\u0629\\u0637\\u0648\\u062a \\u0627\\u0644\\u063a\\u0631\\u0641\\u0629 \\u0627\\u0644\\u062c\\u0646\\u062d\\u064a\\u0629 \\u0627\\u0644\\u062a\\u0644\\u0628\\u0633\\u064a\\u0629 \\u0628\\u0627\\u0644\\u0645\\u062d\\u0643\\u0645\\u0629 \\u0627\\u0644\\u0627\\u0628\\u062a\\u062f\\u0627\\u0626\\u064a\\u0629 \\u0628\\u0645\\u0643\\u0646\\u0627\\u0633 \\u0628\\u0639\\u062f \\u0627\\u0644\\u062a\\u0623\\u0645\\u0644 \\u0641\\u064a \\u0622\\u062e\\u0631 \\u062c\\u0644\\u0633\\u0629 \\u0623\\u0648\\u0644 \\u0623\\u0645\\u0633 \\u0627\\u0644\\u062b\\u0644\\u0627\\u062b\\u0627\\u0621 \\u0635\\u0641\\u062d\\u0627\\u062a \\u0627\\u0644\\u0645\\u0644\\u0641 \\u0631\\u0642\\u0645 \\u0648\\u0623\\u062f\\u0627\\u0646\\u062a \\u0643\\u0644 \\u0648\\u0627\\u062d\\u062f\\u0629 \\u0645\\u0646 \\u0627\\u0644\\u0634\\u0642\\u064a\\u0642\\u062a\\u064a\\u0646 \\u0628\\u0634\\u0647\\u0631\\u064a\\u0646 \\u062d\\u0628\\u0633\\u0627 \\u0645\\u0648\\u0642\\u0648\\u0641 \\u0627\\u0644\\u062a\\u0646\\u0641\\u064a\\u0630 \\u0645\\u0639 \\u062a\\u063a\\u0631\\u064a\\u0645 \\u0643\\u0644 \\u0645\\u0646\\u0647\\u0645\\u0627 \\u062f\\u0631\\u0647\\u0645 \\u0628\\u0639\\u062f \\u0645\\u0624\\u0627\\u062e\\u0630\\u062a\\u0647\\u0645\\u0627 \\u0645\\u0646 \\u0623\\u062c\\u0644 \\u062c\\u0646\\u062d\\u062a\\u064a \\u0627\\u0644\\u0646\\u0635\\u0628 \\u0648\\u0627\\u0644\\u062a\\u0633\\u0648\\u0644 \\u0637\\u0628\\u0642\\u0627 \\u0644\\u0644\\u0641\\u0635\\u0644\\u064a\\u0646 \\u0645\\u0646 \\u0627\\u0644\\u0642\\u0627\\u0646\\u0648\\u0646 \\u0627\\u0644\\u062c\\u0646\\u0627\\u0626\\u064a \\u0625\\u0630 \\u0627\\u0631\\u062a\\u0623\\u062a \\u062a\\u0645\\u062a\\u064a\\u0639\\u0647\\u0645\\u0627 \\u0628\\u0638\\u0631\\u0648\\u0641 \\u0627\\u0644\\u062a\\u062e\\u0641\\u064a\\u0641 \\u0645\\u0631\\u0627\\u0639\\u0627\\u0629 \\u0644\\u062d\\u0627\\u0644\\u062a\\u0647\\u0645\\u0627 \\u0627\\u0644\\u0627\\u062c\\u062a\\u0645\\u0627\\u0639\\u064a\\u0629 \\u0648\\u0627\\u0644\\u0639\\u0627\\u0626\\u0644\\u064a\\u0629 \\u0648\\u0644\\u0627\\u0646\\u0639\\u062f\\u0627\\u0645 \\u0633\\u0648\\u0627\\u0628\\u0642\\u0647\\u0645\\u0627 \\u0627\\u0644\\u0642\\u0636\\u0627\\u0626\\u064a\\u0629 \\u0628\\u0639\\u062f\\u0645\\u0627 \\u0642\\u0636\\u062a\\u0627 \\u0623\\u0632\\u064a\\u062f \\u0645\\u0646 \\u062b\\u0644\\u0627\\u062b\\u0629 \\u0623\\u0633\\u0627\\u0628\\u064a\\u0639 \\u0631\\u0647\\u0646 \\u062a\\u062f\\u0628\\u064a\\u0631 \\u0627\\u0644\\u0627\\u0639\\u062a\\u0642\\u0627\\u0644 \\u0627\\u0644\\u0627\\u062d\\u062a\\u064a\\u0627\\u0637\\u064a \\u0628\\u0627\\u0644\\u0633\\u062c\\u0646 \\u0627\\u0644\\u0645\\u062d\\u0644\\u064a \\u062a\\u0648\\u0644\\u0627\\u0644 \\u0645\\u0643\\u0646\\u0627\\u0633 \\u0648\\u0641\\u064a \\u0627\\u0644\\u062a\\u0641\\u0627\\u0635\\u064a\\u0644 \\u0630\\u0643\\u0631 \\u0645\\u0635\\u062f\\u0631 \\u0627\\u0644\\u0635\\u0628\\u0627\\u062d \\u0623\\u0646 \\u0627\\u0644\\u0642\\u0636\\u064a\\u0629 \\u062a\\u0641\\u062c\\u0631\\u062a \\u0639\\u0646\\u062f\\u0645\\u0627 \\u0623\\u0634\\u0639\\u0631\\u062a \\u0627\\u0644\\u0645\\u0635\\u0627\\u0644\\u062d \\u0627\\u0644\\u0623\\u0645\\u0646\\u064a\\u0629 \\u0628\\u0627\\u0644\\u0639\\u0627\\u0635\\u0645\\u0629 \\u0627\\u0644\\u0625\\u0633\\u0645\\u0627\\u0639\\u064a\\u0644\\u064a\\u0629 \\u0623\\u0646 \\u0645\\u063a\\u0631\\u0628\\u064a\\u062a\\u064a\\u0646 \\u062a\\u0631\\u062a\\u062f\\u064a\\u0627\\u0646 \\u0639\\u0628\\u0627\\u064a\\u062a\\u064a\\u0646 \\u0633\\u0648\\u062f\\u0627\\u0648\\u064a \\u0627\\u0644\\u0644\\u0648\\u0646 \\u062a\\u062a\\u0633\\u0648\\u0644\\u0627\\u0646 \\u0641\\u064a \\u0645\\u062f\\u0627\\u0631 \\u0645\\u0648\\u0644\\u0649 \\u0645\\u0644\\u064a\\u0627\\u0646\\u0629 \\u0628\\u0634\\u0627\\u0631\\u0639 \\u0645\\u062d\\u0645\\u062f \\u0627\\u0644\\u0633\\u0627\\u062f\\u0633 \\u0641\\u064a \\u062c\\u0644\\u0628\\u0627\\u0628 \\u0633\\u0648\\u0631\\u064a \\u0648\\u0639\\u0646\\u062f \\u0627\\u0644\\u0627\\u0646\\u062a\\u0642\\u0627\\u0644 \\u0625\\u0644\\u0649 \\u0647\\u0646\\u0627\\u0643 \\u0636\\u0628\\u0637\\u062a \\u0639\\u0646\\u0627\\u0635\\u0631 \\u0627\\u0644\\u0634\\u0631\\u0637\\u0629 \\u0627\\u0644\\u0642\\u0636\\u0627\\u0626\\u064a\\u0629 \\u0627\\u0644\\u0645\\u0639\\u0646\\u064a\\u062a\\u064a\\u0646 \\u0628\\u0627\\u0644\\u0623\\u0645\\u0631 \\u0641\\u064a \\u062d\\u0627\\u0644\\u0629 \\u062a\\u0644\\u0628\\u0633 \\u0648\\u064a\\u062a\\u0639\\u0644\\u0642 \\u0627\\u0644\\u0623\\u0645\\u0631 \\u0628\\u0627\\u0644\\u0634\\u0642\\u064a\\u0642\\u062a\\u064a\\u0646 \\u0627\\u0644\\u0644\\u062a\\u064a\\u0646 \\u0636\\u0628\\u0637\\u062a \\u0628\\u062d\\u0648\\u0632\\u062a\\u0647\\u0645\\u0627 \\u0635\\u0648\\u0631\\u062a\\u0627\\u0646 \\u0645\\u0644\\u0648\\u0646\\u062a\\u0627\\u0646 \\u0645\\u063a\\u0644\\u0641\\u062a\\u0627\\u0646 \\u0628\\u0627\\u0644\\u0628\\u0644\\u0627\\u0633\\u062a\\u064a\\u0643 \\u0645\\u0646 \\u0635\\u0641\\u062d\\u0629 \\u0644\\u062c\\u0648\\u0627\\u0632 \\u0633\\u0641\\u0631 \\u0641\\u064a \\u0627\\u0633\\u0645 \\u0625\\u062d\\u062f\\u0649 \\u0627\\u0644\\u0644\\u0627\\u062c\\u0626\\u0627\\u062a \\u0627\\u0644\\u0633\\u0648\\u0631\\u064a\\u0627\\u062a \\u062a\\u0642\\u064a\\u0645 \\u0628\\u0645\\u0643\\u0646\\u0627\\u0633 \\u062a\\u062f\\u0639\\u0649 \\u0646\\u0647\\u064a\\u0644\\u0629 \\u0641\\u0636\\u0644\\u0627 \\u0639\\u0646 \\u0644\\u0627\\u0641\\u062a\\u062a\\u064a\\u0646 \\u062f\\u0648\\u0646\\u062a \\u0639\\u0644\\u064a\\u0647\\u0645\\u0627 \\u0639\\u0628\\u0627\\u0631\\u0629 \\u0639\\u0627\\u0626\\u0644\\u0629 \\u0633\\u0648\\u0631\\u064a\\u0629 \\u0645\\u0646 \\u0628\\u0644\\u0627\\u062f \\u0627\\u0644\\u0634\\u0627\\u0645 \\u0644\\u062f\\u064a\\u0647\\u0627 \\u0623\\u0637\\u0641\\u0627\\u0644 \\u0628\\u0644\\u0627 \\u0633\\u0643\\u0646 \\u062a\\u0637\\u0644\\u0628 \\u0627\\u0644\\u0645\\u0633\\u0627\\u0639\\u062f\\u0629 \\u0645\\u0646 \\u0627\\u0644\\u0645\\u062d\\u0633\\u0646\\u064a\\u0646 \\u0648\\u0639\\u0646\\u062f \\u0627\\u0644\\u0627\\u0633\\u062a\\u0645\\u0627\\u0639 \\u0625\\u0644\\u064a\\u0647\\u0645\\u0627 \\u062a\\u0645\\u0647\\u064a\\u062f\\u064a\\u0627 \\u0641\\u064a \\u0645\\u062d\\u0636\\u0631 \\u0642\\u0627\\u0646\\u0648\\u0646\\u064a \\u0627\\u0639\\u062a\\u0631\\u0641\\u062a \\u0627\\u0644\\u0634\\u0642\\u064a\\u0642\\u062a\\u0627\\u0646 \\u0639\\u0627\\u0645\\u0627 \\u0639\\u0627\\u0645\\u0627 \\u0628\\u0643\\u0644 \\u062a\\u0644\\u0642\\u0627\\u0626\\u064a\\u0629 \\u0628\\u0627\\u0644\\u0645\\u0646\\u0633\\u0648\\u0628 \\u0625\\u0644\\u064a\\u0647\\u0645\\u0627 \\u062c\\u0645\\u0644\\u0629 \\u0648\\u062a\\u0641\\u0635\\u064a\\u0644\\u0627 \\u0645\\u0641\\u064a\\u062f\\u062a\\u064a\\u0646 \\u0623\\u0646\\u0647\\u0645\\u0627 \\u0648\\u0646\\u0638\\u0631\\u0627 \\u0644\\u0638\\u0631\\u0648\\u0641\\u0647\\u0645\\u0627 \\u0627\\u0644\\u0645\\u0639\\u064a\\u0634\\u064a\\u0629 \\u0627\\u0644\\u0645\\u0632\\u0631\\u064a\\u0629 \\u0642\\u0631\\u0631\\u062a\\u0627 \\u0627\\u062d\\u062a\\u0631\\u0627\\u0641 \\u0627\\u0644\\u062a\\u0633\\u0648\\u0644 \\u0641\\u064a \\u0627\\u0644\\u0637\\u0631\\u0642\\u0627\\u062a \\u0645\\u0635\\u0631\\u062d\\u062a\\u064a\\u0646 \\u0623\\u0646\\u0647\\u0645\\u0627 \\u0627\\u0628\\u062a\\u0643\\u0631\\u062a\\u0627 \\u0641\\u064a \\u0627\\u0644\\u0623\\u0634\\u0647\\u0631 \\u0627\\u0644\\u0642\\u0644\\u064a\\u0644\\u0629 \\u0627\\u0644\\u0645\\u0627\\u0636\\u064a\\u0629 \\u0637\\u0631\\u064a\\u0642\\u0629 \\u062c\\u062f\\u064a\\u062f\\u0629 \\u062a\\u062c\\u0633\\u062f\\u062a \\u0641\\u064a \\u062a\\u0639\\u0645\\u062f\\u0647\\u0645\\u0627 \\u0625\\u064a\\u0647\\u0627\\u0645 \\u0645\\u0633\\u062a\\u0639\\u0645\\u0644\\u064a \\u0627\\u0644\\u0637\\u0631\\u064a\\u0642 \\u0648\\u0623\\u0635\\u062d\\u0627\\u0628 \\u0627\\u0644\\u0633\\u064a\\u0627\\u0631\\u0627\\u062a \\u0623\\u0646\\u0647\\u0645\\u0627 \\u0633\\u0648\\u0631\\u064a\\u062a\\u0627\\u0646 \\u0648\\u0630\\u0644\\u0643 \\u0625\\u062b\\u0627\\u0631\\u0629 \\u0644\\u0634\\u0641\\u0642\\u0629 \\u0627\\u0644\\u0646\\u0627\\u0633 \\u0648\\u0627\\u0633\\u062a\\u062f\\u0631\\u0627\\u0631 \\u0639\\u0648\\u0627\\u0637\\u0641\\u0647\\u0645 \\u0628\\u0647\\u062f\\u0641 \\u0643\\u0633\\u0628 \\u0627\\u0644\\u0645\\u0627\\u0644 \\u0639\\u0646 \\u0637\\u0631\\u064a\\u0642 \\u0627\\u0644\\u062a\\u0633\\u0648\\u0644 \\u062e\\u0635\\u0648\\u0635\\u0627 \\u0628\\u0639\\u062f\\u0645\\u0627 \\u0644\\u0627\\u062d\\u0638\\u062a\\u0627 \\u0623\\u0646 \\u0627\\u0644\\u0645\\u063a\\u0627\\u0631\\u0628\\u0629 \\u0623\\u0635\\u0628\\u062d\\u0648\\u0627 \\u0623\\u0643\\u062b\\u0631 \\u062a\\u0639\\u0627\\u0637\\u0641\\u0627 \\u0648\\u0633\\u062e\\u0627\\u0621 \\u0645\\u0639 \\u0627\\u0644\\u0644\\u0627\\u062c\\u0626\\u064a\\u0646 \\u0627\\u0644\\u0633\\u0648\\u0631\\u064a\\u064a\\u0646 \\u0648\\u0627\\u0644\\u0623\\u0641\\u0627\\u0631\\u0642\\u0629 \\u0645\\u0646 \\u062f\\u0648\\u0644 \\u062c\\u0646\\u0648\\u0628 \\u0627\\u0644\\u0635\\u062d\\u0631\\u0627\\u0621 \\u062d\\u0633\\u0628 \\u062a\\u0635\\u0631\\u064a\\u062d\\u0647\\u0645\\u0627 \\u0648\\u0623\\u0648\\u0636\\u062d\\u062a\\u0627 \\u0623\\u0646\\u0647\\u0645\\u0627 \\u0628\\u062d\\u0643\\u0645 \\u0639\\u062f\\u0645 \\u062a\\u0648\\u0641\\u0631\\u0647\\u0645\\u0627 \\u0639\\u0644\\u0649 \\u0639\\u0645\\u0644 \\u0642\\u0627\\u0631 \\u0623\\u0648 \\u062d\\u0631\\u0641\\u0629 \\u062a\\u0639\\u064a\\u0644\\u0627\\u0646 \\u0628\\u0647\\u0627 \\u0623\\u0641\\u0631\\u0627\\u062f \\u0623\\u0633\\u0631\\u062a\\u064a\\u0647\\u0645\\u0627 \\u0627\\u0644\\u0635\\u063a\\u064a\\u0631\\u062a\\u064a\\u0646 \\u0648\\u0643\\u0630\\u0627 \\u0648\\u0627\\u0644\\u062f\\u062a\\u0647\\u0645\\u0627 \\u0627\\u0639\\u062a\\u0627\\u062f\\u062a\\u0627 \\u0627\\u0645\\u062a\\u0647\\u0627\\u0646 \\u0627\\u0644\\u062a\\u0633\\u0648\\u0644 \\u0642\\u0628\\u0644 \\u0623\\u0646 \\u062a\\u0642\\u0631\\u0631\\u0627 \\u0645\\u0646\\u0630 \\u062d\\u0648\\u0627\\u0644\\u064a \\u0634\\u0647\\u0631 \\u0645\\u063a\\u0627\\u062f\\u0631\\u0629 \\u0645\\u0633\\u0642\\u0637 \\u0631\\u0623\\u0633\\u064a\\u0647\\u0645\\u0627 \\u0628\\u0641\\u0627\\u0633 \\u0644\\u0644\\u0627\\u0633\\u062a\\u0642\\u0631\\u0627\\u0631 \\u0628\\u062c\\u0627\\u0631\\u062a\\u0647\\u0627 \\u0645\\u0643\\u0646\\u0627\\u0633 \\u0645\\u0646 \\u0623\\u062c\\u0644 \\u0627\\u0644\\u0647\\u062f\\u0641 \\u0639\\u064a\\u0646\\u0647 \\u0645\\u0641\\u064a\\u062f\\u062a\\u064a\\u0646 \\u0623\\u0646\\u0647\\u0645\\u0627 \\u0627\\u0643\\u062a\\u0631\\u062a\\u0627 \\u063a\\u0631\\u0641\\u0629 \\u0628\\u0623\\u062d\\u062f \\u0627\\u0644\\u0645\\u0646\\u0627\\u0632\\u0644 \\u0627\\u0644\\u0648\\u0627\\u0642\\u0639\\u0629 \\u0628\\u062d\\u064a \\u0627\\u0644\\u0641\\u062a\\u062d \\u0627\\u0644\\u0645\\u0644\\u0627\\u062d \\u0627\\u0644\\u0642\\u062f\\u064a\\u0645 \\u0633\\u0627\\u0628\\u0642\\u0627 \\u0628\\u063a\\u0631\\u0636 \\u0627\\u0644\\u0627\\u0633\\u062a\\u0642\\u0631\\u0627\\u0631 \\u0648\\u0627\\u0645\\u062a\\u0647\\u0627\\u0646 \\u0627\\u0644\\u062a\\u0633\\u0648\\u0644 \\u0628\\u0637\\u0631\\u064a\\u0642\\u0629 \\u0627\\u0639\\u062a\\u064a\\u0627\\u062f\\u064a\\u0629 \\u0628\\u0639\\u062f\\u0645\\u0627 \\u0623\\u0635\\u0628\\u062d\\u062a \\u0641\\u0627\\u0633 \\u062a\\u0639\\u062c \\u0628\\u0627\\u0644\\u0645\\u062a\\u0633\\u0648\\u0644\\u064a\\u0646 \\u0645\\u0627 \\u0636\\u064a\\u0642 \\u0639\\u0644\\u064a\\u0647\\u0645\\u0627 \\u0628\\u0627\\u0628 \\u0627\\u0644\\u0631\\u0632\\u0642 \\u0647\\u0646\\u0627\\u0643 \\u0639\\u0644\\u0649 \\u062d\\u062f \\u062a\\u0639\\u0628\\u064a\\u0631\\u0647\\u0645\\u0627 \\u0648\\u0628\\u062e\\u0635\\u0648\\u0635 \\u0635\\u0648\\u0631\\u062a\\u064a \\u062c\\u0648\\u0627\\u0632 \\u0627\\u0644\\u0633\\u0641\\u0631 \\u0648\\u0627\\u0644\\u0644\\u0627\\u0641\\u062a\\u062a\\u064a\\u0646 \\u0623\\u0641\\u0627\\u062f\\u062a \\u0627\\u0644\\u0645\\u062a\\u0647\\u0645\\u062a\\u0627\\u0646 \\u0623\\u0646\\u0647\\u0645\\u0627 \\u0646\\u062c\\u062d\\u062a\\u0627 \\u0641\\u064a \\u0627\\u0644\\u062d\\u0635\\u0648\\u0644 \\u0639\\u0644\\u064a\\u0647\\u0645\\u0627 \\u0645\\u0646 \\u0644\\u0627\\u062c\\u0626\\u0629 \\u0633\\u0648\\u0631\\u064a\\u0629 \\u0635\\u0627\\u062f\\u0641\\u062a\\u0627\\u0647\\u0627 \\u0628\\u0625\\u062d\\u062f\\u0649 \\u0645\\u062f\\u0627\\u0631\\u0627\\u062a \\u0627\\u0644\\u0645\\u062f\\u064a\\u0646\\u0629 \\u0648\\u0630\\u0644\\u0643 \\u0645\\u0642\\u0627\\u0628\\u0644 \\u0645\\u0628\\u0644\\u063a \\u0645\\u0627\\u0644\\u064a \\u0645\\u0648\\u0636\\u062d\\u062a\\u064a\\u0646 \\u0623\\u0646\\u0647\\u0645\\u0627 \\u0644\\u0627 \\u062a\\u062a\\u0648\\u0641\\u0631\\u0627\\u0646 \\u0639\\u0644\\u0649 \\u0645\\u0639\\u0644\\u0648\\u0645\\u0627\\u062a \\u0639\\u0646\\u0647\\u0627 \\u0643\\u0645\\u0627 \\u0644\\u0627 \\u062a\\u0633\\u062a\\u0637\\u064a\\u0639\\u0627\\u0646 \\u062a\\u062d\\u062f\\u064a\\u062f \\u0645\\u0648\\u0642\\u0639 \\u0627\\u0644\\u0645\\u062f\\u0627\\u0631 \\u0627\\u0644\\u0630\\u064a \\u0643\\u0627\\u0646\\u062a \\u062a\\u062a\\u0633\\u0648\\u0644 \\u0628\\u0647 \\u0631\\u0641\\u0642\\u0629 \\u0631\\u0636\\u064a\\u0639\\u062a\\u0647\\u0627 \\u0628\\u0645\\u0627 \\u0623\\u0646\\u0647\\u0645\\u0627 \\u062a\\u062a\\u062d\\u062f\\u0631\\u0627\\u0646 \\u0645\\u0646 \\u0627\\u0644\\u0639\\u0627\\u0635\\u0645\\u0629 \\u0627\\u0644\\u0639\\u0644\\u0645\\u064a\\u0629 \\u062e\\u0644\\u064a\\u0644 \\u0627\\u0644\\u0645\\u0646\\u0648\\u0646\\u064a \\u0645\\u0643\\u0646\\u0627\\u0633\"\n        ],\n        \"semantic_type\": \"\",\n        \"description\": \"\"\n      }\n    },\n    {\n      \"column\": \"targe\",\n      \"properties\": {\n        \"dtype\": \"number\",\n        \"std\": 1,\n        \"min\": 0,\n        \"max\": 3,\n        \"num_unique_values\": 4,\n        \"samples\": [\n          1,\n          3,\n          0\n        ],\n        \"semantic_type\": \"\",\n        \"description\": \"\"\n      }\n    },\n    {\n      \"column\": \"target_named\",\n      \"properties\": {\n        \"dtype\": \"category\",\n        \"num_unique_values\": 4,\n        \"samples\": [\n          \"diverse\",\n          \"politic\",\n          \"culture\"\n        ],\n        \"semantic_type\": \"\",\n        \"description\": \"\"\n      }\n    }\n  ]\n}"
            }
          },
          "metadata": {},
          "execution_count": 8
        }
      ]
    },
    {
      "cell_type": "code",
      "execution_count": null,
      "metadata": {
        "id": "pTvdVyrDZoc6",
        "colab": {
          "base_uri": "https://localhost:8080/"
        },
        "outputId": "5cfe1331-0abc-44ac-958c-6cbcf8294839"
      },
      "outputs": [
        {
          "output_type": "stream",
          "name": "stderr",
          "text": [
            "<ipython-input-7-bb67197e9bef>:1: SettingWithCopyWarning: \n",
            "A value is trying to be set on a copy of a slice from a DataFrame\n",
            "\n",
            "See the caveats in the documentation: https://pandas.pydata.org/pandas-docs/stable/user_guide/indexing.html#returning-a-view-versus-a-copy\n",
            "  df.dropna(subset = [\"text\"], inplace=True)\n"
          ]
        }
      ],
      "source": [
        "df.dropna(subset = [\"text\"], inplace=True)"
      ]
    },
    {
      "cell_type": "code",
      "execution_count": null,
      "metadata": {
        "id": "LYiHrrouUyXS"
      },
      "outputs": [],
      "source": [
        "sampled_dfs = []\n",
        "\n",
        "for target_value in range(5):\n",
        "\n",
        "    sampled_df = df1[df1['targe'] == target_value].sample(8000, random_state=42)\n",
        "    sampled_dfs.append(sampled_df)\n",
        "\n",
        "df_sample = pd.concat(sampled_dfs, ignore_index=True)\n",
        "df=df_sample"
      ]
    },
    {
      "cell_type": "code",
      "execution_count": null,
      "metadata": {
        "colab": {
          "base_uri": "https://localhost:8080/",
          "height": 430
        },
        "id": "3R_K62OdrJ0R",
        "outputId": "fefd79fa-0171-46e7-ca7d-47ddca23cc3a"
      },
      "outputs": [
        {
          "output_type": "display_data",
          "data": {
            "text/plain": [
              "<Figure size 640x480 with 1 Axes>"
            ],
            "image/png": "[encoded data removed]"
          },
          "metadata": {}
        }
      ],
      "source": [
        "data = {'df.targe': np.repeat(np.arange(5), 8000)}\n",
        "df3 = pd.DataFrame(data)\n",
        "df3['text'] = df1['text']\n",
        "\n",
        "plt.hist(df['targe'], bins=range(6), align='left', rwidth=0.8, color='skyblue', edgecolor='black')\n",
        "plt.show()\n"
      ]
    },
    {
      "cell_type": "code",
      "execution_count": null,
      "metadata": {
        "id": "Ea4085toVd1k"
      },
      "outputs": [],
      "source": [
        "def remove_diacritics(x):\n",
        "    arabic_diacritics = re.compile(\"\"\"\n",
        "                             ّ    | # Tashdid\n",
        "                             َ    | # Fatha\n",
        "                             ً    | # Tanwin Fath\n",
        "                             ُ    | # Damma\n",
        "                             ٌ    | # Tanwin Damm\n",
        "                             ِ    | # Kasra\n",
        "                             ٍ    | # Tanwin Kasr\n",
        "                             ْ    | # Sukun\n",
        "                             ـ     # Tatwil/Kashida\n",
        "                         \"\"\", re.VERBOSE)\n",
        "    x = str(x)\n",
        "    x = re.sub(arabic_diacritics, '', x)\n",
        "    return x\n",
        "\n",
        "def normalize_arabic(x):\n",
        "    # Convert www.* or https?://* to \" \"\n",
        "    x = re.sub('((www\\.[^\\s]+)|(https?://[^\\s]+))', ' ', x)\n",
        "    # Replace #word with word\n",
        "    x = re.sub(r'#([^\\s]+)', r'\\1', x)\n",
        "    x = re.sub(\"[إأآا]\", \"ا\", x)\n",
        "    x = re.sub(\"ى\", \"ي\", x)\n",
        "    x = re.sub(\"ؤ\", \"ء\", x)\n",
        "    x = re.sub(\"ئ\", \"ء\", x)\n",
        "    x = re.sub(\"ة\", \"ه\", x)\n",
        "    x = re.sub(\"گ\", \"ك\", x)\n",
        "\n",
        "    return x\n",
        "\n",
        "def remove_punctuations(x):\n",
        "    punctuations_list = ['!', '\"', '#', '$', '%', '&', \"'\", '(', ')', '*', '+', ',', '-', '.', '/', ':', ';', '<', '=', '>', '?', '@', '[', '\\\\', ']', '^', '_', '`', '{', '|', '}', '~']\n",
        "    x = str(x)\n",
        "    translator = str.maketrans(''.join(punctuations_list), ' ' * len(punctuations_list))\n",
        "    return x.translate(translator)\n",
        "\n",
        "def remove_repeating_char(x):\n",
        "    x = str(x)\n",
        "    return re.sub(r'(.)\\1+', r'\\1', x)\n",
        "\n",
        "def remove_english_word_and_numbers(x):\n",
        "    x = str(x)\n",
        "    return re.sub(r'[a-zA-Z0-9]+', '', x)\n",
        "\n",
        "def clean_space(x):\n",
        "    compiled_re = re.compile(r\"\\s+\")\n",
        "    return compiled_re.sub(\" \", x)"
      ]
    },
    {
      "cell_type": "code",
      "execution_count": null,
      "metadata": {
        "colab": {
          "base_uri": "https://localhost:8080/"
        },
        "id": "p9dNLoKjn7fj",
        "outputId": "cc4c8628-4ee9-4aba-e8b9-09987f257704"
      },
      "outputs": [
        {
          "output_type": "stream",
          "name": "stderr",
          "text": [
            "[nltk_data] Downloading package stopwords to /root/nltk_data...\n",
            "[nltk_data]   Unzipping corpora/stopwords.zip.\n"
          ]
        },
        {
          "output_type": "stream",
          "name": "stdout",
          "text": [
            "701\n",
            "                                                    text  targe target_named\n",
            "0      تحيي الفنانة زهرة هندي حفلا فنيا يوم المقبل بم...      0      culture\n",
            "1      بلغ عدد المتفرجين حضروا مهرجان البولفار دورته ...      0      culture\n",
            "2      أخبارنا المغربية متابعة أطلق نشطاء مغاربة حملة...      0      culture\n",
            "3      أكد المشاركون ندوة دولية انعقدت بمدينة الجديدة...      0      culture\n",
            "4      تدشن الفنانة الشعبية المغربية نجاة اعتابو ابتد...      0      culture\n",
            "...                                                  ...    ...          ...\n",
            "39995  المدربون المغاربة يجتمعون بينهم اليوم لقاء الف...      4        sport\n",
            "39996  أكد حكيم دومو رئيس عصبة الغرب لكرة القدم الجمع...      4        sport\n",
            "39997  يرافق المنتخب الوطني الأعضاء الجامعيين باماكو ...      4        sport\n",
            "39998  أطلسي يطلب فسخ العقد والفريق يجدد عقد الجيلاني...      4        sport\n",
            "39999  الصحافة المحلية وصفت اللاعبين بـ الأبطال واعتب...      4        sport\n",
            "\n",
            "[40000 rows x 3 columns]\n"
          ]
        }
      ],
      "source": [
        "import nltk\n",
        "nltk.download('stopwords')\n",
        "from nltk.corpus import stopwords\n",
        "\n",
        "def remove_arabic_stopwords(df, column_name):\n",
        "    stop_words = set(stopwords.words('arabic'))\n",
        "\n",
        "    def remove_sw_arabic(text):\n",
        "        if pd.isnull(text):\n",
        "            return ''\n",
        "        words = text.split()\n",
        "        filtered_words = [word for word in words if word not in stop_words]\n",
        "        return ' '.join(filtered_words)\n",
        "    df[column_name] = df[column_name].apply(remove_sw_arabic)\n",
        "    print(len(stop_words))\n",
        "    return df\n",
        "\n",
        "df = remove_arabic_stopwords(df, 'text')\n",
        "\n",
        "print(df)\n",
        "\n"
      ]
    },
    {
      "cell_type": "code",
      "execution_count": null,
      "metadata": {
        "id": "-k2YfspJZrRT"
      },
      "outputs": [],
      "source": [
        "import re\n",
        "\n",
        "def clean_text(df):\n",
        "    df['text'] =  df['text'].apply(remove_diacritics)\n",
        "    df['text'] =  df['text'].apply(normalize_arabic)\n",
        "    df['text'] =  df['text'].apply(remove_punctuations)\n",
        "    df['text'] =  df['text'].apply(remove_repeating_char)\n",
        "    df['text'] =  df['text'].apply(remove_english_word_and_numbers)\n",
        "    df['text'] =  df['text'].apply(clean_space)\n",
        "\n",
        "    return df\n",
        "\n",
        "df = clean_text(df)"
      ]
    },
    {
      "cell_type": "code",
      "execution_count": null,
      "metadata": {
        "id": "X7CyWm4lgNmi"
      },
      "outputs": [],
      "source": [
        "df['processed_text']=df['text']"
      ]
    },
    {
      "cell_type": "code",
      "source": [
        "from sklearn.model_selection import train_test_split\n",
        "from tensorflow.keras.preprocessing.text import Tokenizer\n",
        "from tensorflow.keras.preprocessing.sequence import pad_sequences\n",
        "\n",
        "tokenizer = Tokenizer()\n",
        "tokenizer.fit_on_texts(df['processed_text'])\n",
        "X_train_sequences = tokenizer.texts_to_sequences(df['processed_text'])\n",
        "\n",
        "maxlen = max(len(seq) for seq in X_train_sequences)\n",
        "X_train_padded = pad_sequences(X_train_sequences, maxlen=maxlen, padding='post')\n",
        "\n",
        "y_train = df['targe'].values[:len(X_train_padded)]\n",
        "\n",
        "# Splitting the dataset\n",
        "X_train, X_test, y_train, y_test = train_test_split(X_train_padded, y_train, test_size=0.3, random_state=42)\n",
        "X_val, X_test, y_val, y_test = train_test_split(X_test, y_test, test_size=0.5, random_state=42)\n",
        "\n",
        "print(\"Training set size:\", len(X_train))\n",
        "print(\"Validation set size:\", len(X_val))\n",
        "print(\"Testing set size:\", len(X_test))\n"
      ],
      "metadata": {
        "colab": {
          "base_uri": "https://localhost:8080/"
        },
        "id": "aqpUCu5Iss3-",
        "outputId": "57f73e8f-2250-40a5-cda0-1e5b76571430"
      },
      "execution_count": null,
      "outputs": [
        {
          "output_type": "stream",
          "name": "stdout",
          "text": [
            "Training set size: 28000\n",
            "Validation set size: 6000\n",
            "Testing set size: 6000\n"
          ]
        }
      ]
    },
    {
      "cell_type": "code",
      "execution_count": null,
      "metadata": {
        "id": "Etyahe7yaCwn",
        "colab": {
          "base_uri": "https://localhost:8080/"
        },
        "outputId": "0ad59509-6a18-4b3e-d045-9d1ebf597ff0"
      },
      "outputs": [
        {
          "output_type": "stream",
          "name": "stdout",
          "text": [
            "Logistic Regression\n",
            "Validation Accuracy: 0.25155555555555553\n",
            "Test Accuracy: 0.2431111111111111\n"
          ]
        },
        {
          "output_type": "stream",
          "name": "stderr",
          "text": [
            "/usr/local/lib/python3.10/dist-packages/sklearn/linear_model/_logistic.py:458: ConvergenceWarning: lbfgs failed to converge (status=1):\n",
            "STOP: TOTAL NO. of ITERATIONS REACHED LIMIT.\n",
            "\n",
            "Increase the number of iterations (max_iter) or scale the data as shown in:\n",
            "    https://scikit-learn.org/stable/modules/preprocessing.html\n",
            "Please also refer to the documentation for alternative solver options:\n",
            "    https://scikit-learn.org/stable/modules/linear_model.html#logistic-regression\n",
            "  n_iter_i = _check_optimize_result(\n"
          ]
        }
      ],
      "source": [
        "# Logistic Regression classifier\n",
        "\n",
        "from sklearn.linear_model import LogisticRegression\n",
        "from sklearn.metrics import accuracy_score\n",
        "log_reg = LogisticRegression(max_iter=1000)\n",
        "log_reg.fit(X_train, y_train)\n",
        "\n",
        "y_pred_val = log_reg.predict(X_val)\n",
        "y_pred_test = log_reg.predict(X_test)\n",
        "\n",
        "accuracy_val = accuracy_score(y_val, y_pred_val)\n",
        "accuracy_test = accuracy_score(y_test, y_pred_test)\n",
        "\n",
        "print(\"Logistic Regression\")\n",
        "print(\"Validation Accuracy:\", accuracy_val)\n",
        "print(\"Test Accuracy:\", accuracy_test)"
      ]
    },
    {
      "cell_type": "code",
      "execution_count": null,
      "metadata": {
        "id": "oA8grEKxaHyQ",
        "colab": {
          "base_uri": "https://localhost:8080/"
        },
        "outputId": "7c598fbe-e770-4715-ad6d-9ed989b7c7d5"
      },
      "outputs": [
        {
          "output_type": "stream",
          "name": "stdout",
          "text": [
            "Random Forest Classifier\n",
            "Validation Accuracy: 0.45511111111111113\n",
            "Test Accuracy: 0.4528888888888889\n"
          ]
        }
      ],
      "source": [
        "# RandomForestClassifier\n",
        "from sklearn.ensemble import RandomForestClassifier\n",
        "from sklearn.metrics import accuracy_score\n",
        "\n",
        "\n",
        "rf_classifier = RandomForestClassifier()\n",
        "rf_classifier.fit(X_train, y_train)\n",
        "\n",
        "y_pred_val = rf_classifier.predict(X_val)\n",
        "y_pred_test = rf_classifier.predict(X_test)\n",
        "\n",
        "accuracy_val = accuracy_score(y_val, y_pred_val)\n",
        "accuracy_test = accuracy_score(y_test, y_pred_test)\n",
        "\n",
        "print(\"Random Forest Classifier\")\n",
        "print(\"Validation Accuracy:\", accuracy_val)\n",
        "print(\"Test Accuracy:\", accuracy_test)"
      ]
    },
    {
      "cell_type": "code",
      "execution_count": null,
      "metadata": {
        "id": "6xkIZqKGreAa",
        "colab": {
          "base_uri": "https://localhost:8080/"
        },
        "outputId": "0c64665e-ce96-4e93-ef49-8c85d136727e"
      },
      "outputs": [
        {
          "output_type": "stream",
          "name": "stderr",
          "text": [
            "/usr/local/lib/python3.10/dist-packages/ipykernel/ipkernel.py:283: DeprecationWarning: `should_run_async` will not call `transform_cell` automatically in the future. Please pass the result to `transformed_cell` argument and any exception that happen during thetransform in `preprocessing_exc_tuple` in IPython 7.17 and above.\n",
            "  and should_run_async(code)\n"
          ]
        }
      ],
      "source": [
        "from tensorflow.keras import layers, Sequential,regularizers,optimizers\n",
        "import numpy as np\n",
        "from tensorflow.keras import layers, Sequential\n",
        "from tensorflow.keras.preprocessing.text import Tokenizer\n",
        "from tensorflow.keras.preprocessing.sequence import pad_sequences\n",
        "from tensorflow.keras.regularizers import l2\n",
        "\n",
        "model = Sequential([\n",
        "    layers.Embedding(input_dim=len(tokenizer.word_index) + 1, output_dim=300, input_length=maxlen),\n",
        "    layers.Bidirectional(layers.LSTM(128, return_sequences=True)),\n",
        "    layers.Dropout(0.2),\n",
        "    layers.Bidirectional(layers.LSTM(128)),\n",
        "    layers.Dropout(0.5),\n",
        "    layers.Dense(100, activation='relu', kernel_regularizer=l2(0.001)),\n",
        "    layers.BatchNormalization(),\n",
        "    layers.Dense(50, activation='relu', kernel_regularizer=l2(0.001)),\n",
        "    layers.Dropout(0.5),\n",
        "    layers.Dense(16, activation='relu', kernel_regularizer=l2(0.001)),\n",
        "    layers.BatchNormalization(),\n",
        "    layers.Dropout(0.5),\n",
        "    layers.Dense(5, activation='softmax')\n",
        "])\n"
      ]
    },
    {
      "cell_type": "code",
      "execution_count": null,
      "metadata": {
        "colab": {
          "base_uri": "https://localhost:8080/"
        },
        "id": "1Jlz9E12ruDb",
        "outputId": "c652c19e-41ad-4c13-a175-0ef809fbdcde"
      },
      "outputs": [
        {
          "output_type": "stream",
          "name": "stdout",
          "text": [
            "Model: \"sequential\"\n",
            "_________________________________________________________________\n",
            " Layer (type)                Output Shape              Param #   \n",
            "=================================================================\n",
            " embedding (Embedding)       (None, 3566, 300)         76469100  \n",
            "                                                                 \n",
            " bidirectional (Bidirection  (None, 3566, 256)         439296    \n",
            " al)                                                             \n",
            "                                                                 \n",
            " dropout (Dropout)           (None, 3566, 256)         0         \n",
            "                                                                 \n",
            " bidirectional_1 (Bidirecti  (None, 256)               394240    \n",
            " onal)                                                           \n",
            "                                                                 \n",
            " dropout_1 (Dropout)         (None, 256)               0         \n",
            "                                                                 \n",
            " dense (Dense)               (None, 100)               25700     \n",
            "                                                                 \n",
            " batch_normalization (Batch  (None, 100)               400       \n",
            " Normalization)                                                  \n",
            "                                                                 \n",
            " dense_1 (Dense)             (None, 50)                5050      \n",
            "                                                                 \n",
            " dropout_2 (Dropout)         (None, 50)                0         \n",
            "                                                                 \n",
            " dense_2 (Dense)             (None, 16)                816       \n",
            "                                                                 \n",
            " batch_normalization_1 (Bat  (None, 16)                64        \n",
            " chNormalization)                                                \n",
            "                                                                 \n",
            " dropout_3 (Dropout)         (None, 16)                0         \n",
            "                                                                 \n",
            " dense_3 (Dense)             (None, 5)                 85        \n",
            "                                                                 \n",
            "=================================================================\n",
            "Total params: 77334751 (295.01 MB)\n",
            "Trainable params: 77334519 (295.01 MB)\n",
            "Non-trainable params: 232 (928.00 Byte)\n",
            "_________________________________________________________________\n"
          ]
        },
        {
          "output_type": "stream",
          "name": "stderr",
          "text": [
            "/usr/local/lib/python3.10/dist-packages/ipykernel/ipkernel.py:283: DeprecationWarning: `should_run_async` will not call `transform_cell` automatically in the future. Please pass the result to `transformed_cell` argument and any exception that happen during thetransform in `preprocessing_exc_tuple` in IPython 7.17 and above.\n",
            "  and should_run_async(code)\n"
          ]
        }
      ],
      "source": [
        "optimizer =optimizers.Adam(learning_rate=0.0001)\n",
        "model.compile(optimizer='adam'\n",
        "         , loss='sparse_categorical_crossentropy',\n",
        "              metrics=['accuracy'])\n",
        "\n",
        "model.summary()"
      ]
    },
    {
      "cell_type": "code",
      "execution_count": null,
      "metadata": {
        "colab": {
          "base_uri": "https://localhost:8080/"
        },
        "id": "pPjoyc3RhXLC",
        "outputId": "07d7335e-f587-4255-8c16-ebba7bd64839"
      },
      "outputs": [
        {
          "output_type": "stream",
          "name": "stderr",
          "text": [
            "/usr/local/lib/python3.10/dist-packages/ipykernel/ipkernel.py:283: DeprecationWarning: `should_run_async` will not call `transform_cell` automatically in the future. Please pass the result to `transformed_cell` argument and any exception that happen during thetransform in `preprocessing_exc_tuple` in IPython 7.17 and above.\n",
            "  and should_run_async(code)\n"
          ]
        },
        {
          "output_type": "stream",
          "name": "stdout",
          "text": [
            "Epoch 1/10\n",
            "875/875 [==============================] - ETA: 0s - loss: 1.7375 - accuracy: 0.3804\n",
            "Epoch 1: val_loss improved from inf to 1.02269, saving model to /content/drive/MyDrive/last_LStm.ipynb/model.hdf5\n"
          ]
        },
        {
          "output_type": "stream",
          "name": "stderr",
          "text": [
            "/usr/local/lib/python3.10/dist-packages/keras/src/engine/training.py:3103: UserWarning: You are saving your model as an HDF5 file via `model.save()`. This file format is considered legacy. We recommend using instead the native Keras format, e.g. `model.save('my_model.keras')`.\n",
            "  saving_api.save_model(\n"
          ]
        },
        {
          "output_type": "stream",
          "name": "stdout",
          "text": [
            "\b\b\b\b\b\b\b\b\b\b\b\b\b\b\b\b\b\b\b\b\b\b\b\b\b\b\b\b\b\b\b\b\b\b\b\b\b\b\b\b\b\b\b\b\b\b\b\b\b\b\b\b\b\b\b\b\b\b\b\b\b\b\b\b\b\b\b\b\b\b\b\b\b\b\b\b\b\b\b\b\b\b\b\b\r875/875 [==============================] - 670s 739ms/step - loss: 1.7375 - accuracy: 0.3804 - val_loss: 1.0227 - val_accuracy: 0.5897 - lr: 0.0010\n",
            "Epoch 2/10\n",
            "875/875 [==============================] - ETA: 0s - loss: 1.1226 - accuracy: 0.5499\n",
            "Epoch 2: val_loss improved from 1.02269 to 0.87917, saving model to /content/drive/MyDrive/last_LStm.ipynb/model.hdf5\n",
            "875/875 [==============================] - 640s 731ms/step - loss: 1.1226 - accuracy: 0.5499 - val_loss: 0.8792 - val_accuracy: 0.5863 - lr: 0.0010\n",
            "Epoch 3/10\n",
            "875/875 [==============================] - ETA: 0s - loss: 0.8852 - accuracy: 0.5892\n",
            "Epoch 3: val_loss improved from 0.87917 to 0.79833, saving model to /content/drive/MyDrive/last_LStm.ipynb/model.hdf5\n",
            "875/875 [==============================] - 654s 748ms/step - loss: 0.8852 - accuracy: 0.5892 - val_loss: 0.7983 - val_accuracy: 0.6372 - lr: 0.0010\n",
            "Epoch 4/10\n",
            "875/875 [==============================] - ETA: 0s - loss: 0.7608 - accuracy: 0.6135\n",
            "Epoch 4: val_loss improved from 0.79833 to 0.78510, saving model to /content/drive/MyDrive/last_LStm.ipynb/model.hdf5\n",
            "875/875 [==============================] - 660s 755ms/step - loss: 0.7608 - accuracy: 0.6135 - val_loss: 0.7851 - val_accuracy: 0.6675 - lr: 0.0010\n",
            "Epoch 5/10\n",
            "875/875 [==============================] - ETA: 0s - loss: 0.6176 - accuracy: 0.7621\n",
            "Epoch 5: val_loss improved from 0.78510 to 0.43818, saving model to /content/drive/MyDrive/last_LStm.ipynb/model.hdf5\n",
            "875/875 [==============================] - 677s 774ms/step - loss: 0.6176 - accuracy: 0.7621 - val_loss: 0.4382 - val_accuracy: 0.8972 - lr: 0.0010\n",
            "Epoch 6/10\n",
            "875/875 [==============================] - ETA: 0s - loss: 0.3525 - accuracy: 0.9172\n",
            "Epoch 6: val_loss improved from 0.43818 to 0.42189, saving model to /content/drive/MyDrive/last_LStm.ipynb/model.hdf5\n",
            "875/875 [==============================] - 652s 745ms/step - loss: 0.3525 - accuracy: 0.9172 - val_loss: 0.4219 - val_accuracy: 0.9127 - lr: 0.0010\n",
            "Epoch 7/10\n",
            "875/875 [==============================] - ETA: 0s - loss: 0.2699 - accuracy: 0.9420\n",
            "Epoch 7: val_loss improved from 0.42189 to 0.41166, saving model to /content/drive/MyDrive/last_LStm.ipynb/model.hdf5\n",
            "875/875 [==============================] - 579s 661ms/step - loss: 0.2699 - accuracy: 0.9420 - val_loss: 0.4117 - val_accuracy: 0.9167 - lr: 0.0010\n",
            "Epoch 8/10\n",
            "875/875 [==============================] - ETA: 0s - loss: 0.2203 - accuracy: 0.9580\n",
            "Epoch 8: val_loss improved from 0.41166 to 0.37133, saving model to /content/drive/MyDrive/last_LStm.ipynb/model.hdf5\n",
            "875/875 [==============================] - 587s 670ms/step - loss: 0.2203 - accuracy: 0.9580 - val_loss: 0.3713 - val_accuracy: 0.9270 - lr: 0.0010\n",
            "Epoch 9/10\n",
            "875/875 [==============================] - ETA: 0s - loss: 0.1934 - accuracy: 0.9613\n",
            "Epoch 9: val_loss did not improve from 0.37133\n",
            "875/875 [==============================] - 477s 545ms/step - loss: 0.1934 - accuracy: 0.9613 - val_loss: 0.4737 - val_accuracy: 0.9192 - lr: 0.0010\n",
            "Epoch 10/10\n",
            "875/875 [==============================] - ETA: 0s - loss: 0.1531 - accuracy: 0.9732\n",
            "Epoch 10: val_loss did not improve from 0.37133\n",
            "875/875 [==============================] - 469s 536ms/step - loss: 0.1531 - accuracy: 0.9732 - val_loss: 0.4774 - val_accuracy: 0.9253 - lr: 0.0010\n"
          ]
        }
      ],
      "source": [
        "from keras.callbacks import ModelCheckpoint, EarlyStopping\n",
        "from tensorflow.keras.callbacks import ReduceLROnPlateau\n",
        "\n",
        "callbacks = [\n",
        "    ModelCheckpoint('/content/drive/MyDrive/last_LStm.ipynb/model.hdf5', verbose=1, save_best_only=True),\n",
        "    EarlyStopping(patience=5, verbose=1, restore_best_weights=True, monitor='loss'),\n",
        "    ReduceLROnPlateau(monitor='loss', factor=0.2, patience=3, min_lr=0.0001)\n",
        "]\n",
        "history = model.fit(X_train, y_train, epochs=10, batch_size=32 ,callbacks=callbacks, validation_data=(X_val, y_val))\n"
      ]
    },
    {
      "cell_type": "code",
      "source": [
        "training_loss = history.history['loss']\n",
        "validation_loss = history.history['val_loss']\n",
        "\n",
        "import matplotlib.pyplot as plt\n",
        "\n",
        "plt.plot(training_loss, label='Training Loss')\n",
        "plt.plot(validation_loss, label='Validation Loss')\n",
        "plt.xlabel('Epochs')\n",
        "plt.ylabel('Loss')\n",
        "plt.title('Training and Validation Loss')\n",
        "plt.legend()\n",
        "plt.show()"
      ],
      "metadata": {
        "id": "gdwHc3CRajX2",
        "outputId": "cc784950-ca3e-4fa9-d396-80fdd8de8ef5",
        "colab": {
          "base_uri": "https://localhost:8080/",
          "height": 527
        }
      },
      "execution_count": null,
      "outputs": [
        {
          "output_type": "stream",
          "name": "stderr",
          "text": [
            "/usr/local/lib/python3.10/dist-packages/ipykernel/ipkernel.py:283: DeprecationWarning: `should_run_async` will not call `transform_cell` automatically in the future. Please pass the result to `transformed_cell` argument and any exception that happen during thetransform in `preprocessing_exc_tuple` in IPython 7.17 and above.\n",
            "  and should_run_async(code)\n"
          ]
        },
        {
          "output_type": "display_data",
          "data": {
            "text/plain": [
              "<Figure size 640x480 with 1 Axes>"
            ],
            "image/png": "[encoded data removed]"
          },
          "metadata": {}
        }
      ]
    },
    {
      "cell_type": "code",
      "execution_count": null,
      "metadata": {
        "colab": {
          "base_uri": "https://localhost:8080/",
          "height": 527
        },
        "id": "NVubjT8YwtmV",
        "outputId": "22ce4842-632d-49b0-c822-68ba20cac879"
      },
      "outputs": [
        {
          "output_type": "stream",
          "name": "stderr",
          "text": [
            "/usr/local/lib/python3.10/dist-packages/ipykernel/ipkernel.py:283: DeprecationWarning: `should_run_async` will not call `transform_cell` automatically in the future. Please pass the result to `transformed_cell` argument and any exception that happen during thetransform in `preprocessing_exc_tuple` in IPython 7.17 and above.\n",
            "  and should_run_async(code)\n"
          ]
        },
        {
          "output_type": "display_data",
          "data": {
            "text/plain": [
              "<Figure size 640x480 with 1 Axes>"
            ],
            "image/png": "[encoded data removed]"
          },
          "metadata": {}
        }
      ],
      "source": [
        "training_loss = history.history['loss']\n",
        "validation_loss = history.history['val_loss']\n",
        "\n",
        "import matplotlib.pyplot as plt\n",
        "\n",
        "plt.plot(training_loss, label='Training Loss')\n",
        "plt.plot(validation_loss, label='Validation Loss')\n",
        "plt.xlabel('Epochs')\n",
        "plt.ylabel('Loss')\n",
        "plt.title('Training and Validation Loss')\n",
        "plt.legend()\n",
        "plt.show()"
      ]
    },
    {
      "cell_type": "code",
      "execution_count": null,
      "metadata": {
        "colab": {
          "base_uri": "https://localhost:8080/",
          "height": 527
        },
        "id": "PTKGiM4Z2f2p",
        "outputId": "b2353202-0b88-4637-b1bf-69ee819d12ce"
      },
      "outputs": [
        {
          "output_type": "stream",
          "name": "stderr",
          "text": [
            "/usr/local/lib/python3.10/dist-packages/ipykernel/ipkernel.py:283: DeprecationWarning: `should_run_async` will not call `transform_cell` automatically in the future. Please pass the result to `transformed_cell` argument and any exception that happen during thetransform in `preprocessing_exc_tuple` in IPython 7.17 and above.\n",
            "  and should_run_async(code)\n"
          ]
        },
        {
          "output_type": "display_data",
          "data": {
            "text/plain": [
              "<Figure size 640x480 with 1 Axes>"
            ],
            "image/png": "[encoded data removed]"
          },
          "metadata": {}
        }
      ],
      "source": [
        "training_accuracy = history.history['accuracy']\n",
        "validation_accuracy = history.history['val_accuracy']\n",
        "plt.plot(training_accuracy, label='Training Accuracy')\n",
        "plt.plot(validation_accuracy, label='Validation Accuracy')\n",
        "plt.xlabel('Epochs')\n",
        "plt.ylabel('Accuracy')\n",
        "plt.title('Training and Validation Accuracy')\n",
        "plt.legend()\n",
        "plt.show()\n"
      ]
    },
    {
      "cell_type": "code",
      "execution_count": null,
      "metadata": {
        "colab": {
          "base_uri": "https://localhost:8080/"
        },
        "id": "dSm0x57Zo5Ec",
        "outputId": "5c3af163-7f93-40e8-f8c8-4ec1e9efb5a2"
      },
      "outputs": [
        {
          "output_type": "stream",
          "name": "stderr",
          "text": [
            "/usr/local/lib/python3.10/dist-packages/ipykernel/ipkernel.py:283: DeprecationWarning: `should_run_async` will not call `transform_cell` automatically in the future. Please pass the result to `transformed_cell` argument and any exception that happen during thetransform in `preprocessing_exc_tuple` in IPython 7.17 and above.\n",
            "  and should_run_async(code)\n"
          ]
        },
        {
          "output_type": "stream",
          "name": "stdout",
          "text": [
            "188/188 [==============================] - 35s 185ms/step - loss: 0.4815 - accuracy: 0.9232\n",
            "0.4815017879009247\n"
          ]
        },
        {
          "output_type": "execute_result",
          "data": {
            "text/plain": [
              "0.929111123085022"
            ]
          },
          "metadata": {},
          "execution_count": 35
        }
      ],
      "source": [
        "loss, accuracy = model.evaluate(X_test, y_test)\n",
        "print( loss)\n",
        "accuracy"
      ]
    },
    {
      "cell_type": "code",
      "execution_count": null,
      "metadata": {
        "colab": {
          "base_uri": "https://localhost:8080/"
        },
        "id": "Tsz04RWx9aC0",
        "outputId": "f6bab37b-cc1b-47bc-8eef-bfe78a598996"
      },
      "outputs": [
        {
          "output_type": "stream",
          "name": "stderr",
          "text": [
            "/usr/local/lib/python3.10/dist-packages/ipykernel/ipkernel.py:283: DeprecationWarning: `should_run_async` will not call `transform_cell` automatically in the future. Please pass the result to `transformed_cell` argument and any exception that happen during thetransform in `preprocessing_exc_tuple` in IPython 7.17 and above.\n",
            "  and should_run_async(code)\n"
          ]
        },
        {
          "output_type": "stream",
          "name": "stdout",
          "text": [
            "188/188 [==============================] - 35s 188ms/step - loss: 0.4774 - accuracy: 0.9253\n",
            "0.4773886203765869\n"
          ]
        },
        {
          "output_type": "execute_result",
          "data": {
            "text/plain": [
              "0.9253333210945129"
            ]
          },
          "metadata": {},
          "execution_count": 36
        }
      ],
      "source": [
        "loss, accuracy = model.evaluate(X_val, y_val)\n",
        "print( loss)\n",
        "accuracy"
      ]
    },
    {
      "cell_type": "code",
      "execution_count": null,
      "metadata": {
        "id": "7Gc-jEfbo93E",
        "colab": {
          "base_uri": "https://localhost:8080/"
        },
        "outputId": "83590beb-ab0a-4b00-ce89-ea6360fd864e"
      },
      "outputs": [
        {
          "output_type": "stream",
          "name": "stderr",
          "text": [
            "/usr/local/lib/python3.10/dist-packages/ipykernel/ipkernel.py:283: DeprecationWarning: `should_run_async` will not call `transform_cell` automatically in the future. Please pass the result to `transformed_cell` argument and any exception that happen during thetransform in `preprocessing_exc_tuple` in IPython 7.17 and above.\n",
            "  and should_run_async(code)\n"
          ]
        },
        {
          "output_type": "stream",
          "name": "stdout",
          "text": [
            "188/188 [==============================] - 36s 181ms/step\n"
          ]
        }
      ],
      "source": [
        "from sklearn.metrics import classification_report\n",
        "y_pred = model.predict(X_test)\n",
        "y_pred_classes = np.argmax(y_pred, axis=1)"
      ]
    },
    {
      "cell_type": "code",
      "execution_count": null,
      "metadata": {
        "id": "yDtXxff0vGTe",
        "colab": {
          "base_uri": "https://localhost:8080/"
        },
        "outputId": "f5e4b03f-dc04-4df7-b4aa-cf632623a58d"
      },
      "outputs": [
        {
          "output_type": "stream",
          "name": "stderr",
          "text": [
            "/usr/local/lib/python3.10/dist-packages/ipykernel/ipkernel.py:283: DeprecationWarning: `should_run_async` will not call `transform_cell` automatically in the future. Please pass the result to `transformed_cell` argument and any exception that happen during thetransform in `preprocessing_exc_tuple` in IPython 7.17 and above.\n",
            "  and should_run_async(code)\n"
          ]
        }
      ],
      "source": [
        "def sequences_to_texts(tokenizer, sequences):\n",
        "\n",
        "    reverse_word_index = {idx: word for word, idx in tokenizer.word_index.items()}\n",
        "\n",
        "    texts = []\n",
        "    for seq in sequences:\n",
        "        text = ' '.join(reverse_word_index.get(idx, '') for idx in seq if idx != 0)\n",
        "        texts.append(text)\n",
        "\n",
        "    return texts"
      ]
    },
    {
      "cell_type": "code",
      "execution_count": null,
      "metadata": {
        "id": "lWhNjp7zHn-3",
        "colab": {
          "base_uri": "https://localhost:8080/"
        },
        "outputId": "1cc55ddd-c064-4950-c4ea-e78f5004e248"
      },
      "outputs": [
        {
          "output_type": "stream",
          "name": "stderr",
          "text": [
            "/usr/local/lib/python3.10/dist-packages/ipykernel/ipkernel.py:283: DeprecationWarning: `should_run_async` will not call `transform_cell` automatically in the future. Please pass the result to `transformed_cell` argument and any exception that happen during thetransform in `preprocessing_exc_tuple` in IPython 7.17 and above.\n",
            "  and should_run_async(code)\n"
          ]
        }
      ],
      "source": [
        "X_test_texts = sequences_to_texts(tokenizer, X_test)\n",
        "#{ 0: 'culture', 1: 'diverse', 2: 'economy', 3:'politic', 4: 'sport'}"
      ]
    },
    {
      "cell_type": "code",
      "source": [
        "print(X_test_texts[4])\n",
        "print(y_pred_classes[4])"
      ],
      "metadata": {
        "colab": {
          "base_uri": "https://localhost:8080/"
        },
        "id": "nmTvDBz2m0To",
        "outputId": "4800f28a-a347-4142-a1c3-ae211f685d82"
      },
      "execution_count": null,
      "outputs": [
        {
          "output_type": "stream",
          "name": "stdout",
          "text": [
            "اعلن الفنان القطري فهد الكبيسي عنوان البومه الجديد عشق يتضمن اغنيه جديده اختارها مجموعه كبيره الاغنيات سجلها واكد خلال حساباته الرسميه المختلفه مواقع التواصل الاجتماعي بان اغنيات الالبوم جميعها بات متوفره الايتيونز لمن اراد الاستماع مسبقا عليها طرح الالبوم واوضح الكبيسي بلاغ توصلت الصباح بنسخه الالبوم الجديد تنتجه شركه فهد الكبيسي بروداكشن ”، يحتوي مجموعه متنوعه الالوان الموسيقيه قدمها جميعها باحساسه جهد كبير اعدادها وتنفيذها وتسجيلها متنقلا اجلها عد كبير الاستوديوهات بينها الاستوديو الخاص الدوحه جانب اخري دبي والقاهره والبحرين وتركيا وتم تجهيز الالبوم فنيا وموسيقيا اشراف ومتابعه رفيق درب فهد الكبيسي الملحن القطري عبد اله المناعي شارك تقديم اغنيات الحانه الالبوم اسندت مهمه الاشراف العام ومتابعه تجهيزات طرح العمل لاحمد علي وكيل اعمال الفنان وقد حملت اغنيات الالبوم كلمات الشاعره الاماني جانب الشعراء رياض العوض وراشد بن جعيثن وعبير الشوق واحمد علوي وابراهيم بن سواد وهشام الشروقي وهند ويم وعلي الفضلي وسيف فاضل جانب الملحنين ياسر بوعلي واحمد الهرمي والفيصل ونواف عبد اله وعبد اله المناعي التوزيع الموسيقي فتولاه سيروس عيسي وخالد عز وهشام السكران ومهند سيف وهاني فرحات وتامر فيظي وتامر غنيم\n",
            "0\n"
          ]
        },
        {
          "output_type": "stream",
          "name": "stderr",
          "text": [
            "/usr/local/lib/python3.10/dist-packages/ipykernel/ipkernel.py:283: DeprecationWarning: `should_run_async` will not call `transform_cell` automatically in the future. Please pass the result to `transformed_cell` argument and any exception that happen during thetransform in `preprocessing_exc_tuple` in IPython 7.17 and above.\n",
            "  and should_run_async(code)\n"
          ]
        }
      ]
    },
    {
      "cell_type": "code",
      "source": [
        "print(X_test_texts[2])\n",
        "print(y_pred_classes[2])"
      ],
      "metadata": {
        "colab": {
          "base_uri": "https://localhost:8080/"
        },
        "id": "ZbWdblxBm0aG",
        "outputId": "770a95c4-0733-4360-a0ed-1b5c7ed97c24"
      },
      "execution_count": null,
      "outputs": [
        {
          "output_type": "stream",
          "name": "stdout",
          "text": [
            "تمك نت عصابه اجراميه ضمن عرف ب الفراقشيه سرقه عد رءوس الاغنام الساعات الاولي الاحد بدو ار العمامره التابع لجماعه القرويه اولاد عبدون ضواحي مدينه خريبكه بعدما شل حركه المكل بحراسه ورعايه القطيع وافادت مصادر جريده هسبريس الالكترونيه بان الواقفين وراء العمليه حرصوا البدايه تكبيل المكل بالحراسه وانتزاع هاتفه المحمول ينجحوا سرقه شاه باستعمال مركبه رج تكون شاحنه كبيره ويلوذوا بالفرار وجه مجهوله واضافت المصادر ذاتها عناصر امنيه المركز الترابي لدرك الملكي بخريبكه انتقلت مكان الواقعه المعاينه وفتح بحث قضاءي ومباشره التحريات حول عمليات السرقه تستهدف دو ار العمامره الفينه والاخري ضمنها سرقه ثورا اشهر واختفاء شاه شهر الماضي\n",
            "1\n"
          ]
        },
        {
          "output_type": "stream",
          "name": "stderr",
          "text": [
            "/usr/local/lib/python3.10/dist-packages/ipykernel/ipkernel.py:283: DeprecationWarning: `should_run_async` will not call `transform_cell` automatically in the future. Please pass the result to `transformed_cell` argument and any exception that happen during thetransform in `preprocessing_exc_tuple` in IPython 7.17 and above.\n",
            "  and should_run_async(code)\n"
          ]
        }
      ]
    },
    {
      "cell_type": "code",
      "source": [
        "print(X_test_texts[5])\n",
        "print(y_pred_classes[5])"
      ],
      "metadata": {
        "colab": {
          "base_uri": "https://localhost:8080/"
        },
        "id": "k6eqNTzznQgL",
        "outputId": "519c1263-5f98-4b04-cfb7-bcace33c54cc"
      },
      "execution_count": null,
      "outputs": [
        {
          "output_type": "stream",
          "name": "stdout",
          "text": [
            "شكلت سفاره المغرب بدمشق خليه استقبال داخل مقرها مكلفه بربط الاتصال بافراد الجاليه المغربيه والاستفسار احوالهم وتقديم المساعدات الازمه حاجه واضعه اليه ماليه بدعم الوزاره المكلفه بالجاليه المغربيه القاطنه بالخارج قصد التكفل بمتابعه احوال المواطنين المغاربه المقيمين بسوريا افادت وكاله المغرب لانباء مصادر بالسفاره المذكوره وتاتي الخطوه ظل التصعيد المسبوق شهدته احداث سوريا مءخرا وحسب المصدر عد المغاربه غادروا سوريا وعادوا ارض الوطن اندلاع الاحداث منتصف شهر الماضي تراوح شخص وقد قامت مصالح السفاره بوضع رقم هاتفي خاص يمكن لافراد الجاليه المغربيه بسوريا الاتصال لاستفسار طلب المساعده الاوقات ايام العطل والاعياد بالاضافه نشر اعلانات الموقع الالكتروني لسفاره تضمن ارقاما هاتفيه ومعلومات مفيده واشار المصدر ذاته مصالح السفاره تبذل جهودا كبيره لتبقي تواصل مستمر افراد الجاليه المغربيه يزالون سوريه رغم الصعوبات تواجها يتعلق بالانقطاعات المتكره لخطوط الهاتف والانترنت والكهرباء وكذا صعوبه الوصول المناطق الساخنه وجدير بالذكر الجاليه المغربيه المقيمه سوريا تكون غالبيتها افراد يمارسون التجاره وبعضهم يعملون المجالات التقنيه مواطنات متزوجات سورين وهناك طالبا وطالبه بالاضافه فلسطينين يحملون الجنسيه المغربيه وقد بث مغاربه الثوره السوريه عبر صفحتهم فيسبوك رساله الناشط السوري المعارض هادي العبداله وفريقه الاعلامي خلفيه احداث بابا عمرو الاخيره يبشر نشطاء الصفحه معنوياتهم مرتفعه واحوالهم جيده مناشدا نشطاء الصفحه مغاربه الثوره السوريه الدعاء بالنصر واضاف العبداله بالقول دعواتكم فنحن منصورون باذن اله كونوا اليقين كونوا يقين انا المنصورون حد تعبيره وكما جاء الصفحه وتهدف الصفحه نصره الشعب السوري تنديدا بالمجازر يتعرض الشعب السوري يد نظام الاسد جاء تصريح لاحد النشطاء ل العربيه نت دعا خلاله قطع العلاقات الدبلوماسيه المغرب وسوريا مشدا ضروره طرد السفير السوري وكانت فعاليات شبابيه مغربيه وسوريه دعت قطع العلاقات الدبلوماسيه السوريه المغربيه وقفات احتجاجيه مبني السفاره السوريه العاصمه المغربيه الرباط تلقي خلالها المشاركون اتصالا هاتفيا قاءد الجيش السوري الحر العقيد رياض الاسعد ناشد خلاله المجتمع الدولي مساعده السورين المنكوبين جراء العدوان المتواصل لقوات الجيش السوري المدنين العزل المدن السوريه دعا سوري الخارج التكاثف وتوحيد الصف دعم الثوره السوريه الداخل افادت الصفحه الرباط منال وهبي\n",
            "3\n"
          ]
        },
        {
          "output_type": "stream",
          "name": "stderr",
          "text": [
            "/usr/local/lib/python3.10/dist-packages/ipykernel/ipkernel.py:283: DeprecationWarning: `should_run_async` will not call `transform_cell` automatically in the future. Please pass the result to `transformed_cell` argument and any exception that happen during thetransform in `preprocessing_exc_tuple` in IPython 7.17 and above.\n",
            "  and should_run_async(code)\n"
          ]
        }
      ]
    },
    {
      "cell_type": "code",
      "source": [
        "print(X_test_texts[6])\n",
        "print(y_pred_classes[6])"
      ],
      "metadata": {
        "colab": {
          "base_uri": "https://localhost:8080/"
        },
        "id": "0KF6u3UcnQmz",
        "outputId": "8742531c-12b0-43e0-e6a3-ec756cb227ab"
      },
      "execution_count": null,
      "outputs": [
        {
          "output_type": "stream",
          "name": "stdout",
          "text": [
            "امتلاك ثروه ماليه كبيره يعتبر حلما يراود غالبيه البشر المبتغي يعمي بصيره البعض ويجعلهم ضحيه سهله لعمليات نصب واحتيال والتسويق الشبكي الهرمي نوع جديد الاستثمار الخفي الالكتروني يقوم تسويق منتجات خدمات وبيعها بشكل تواصلي يقوم المستثمر الجديد بالمساهمه راسمال الشركه بمبلغ معين تبقي قيمه مبلغ الاستثمار مفتوحه والي جانب يعمد الوافد الجديد استقطاب ودعوه مساهمين اخرين لدخول ميدان التسويق الشبكي مقابل عموله ولمن سبقوه المجال وذلك بنسبه استفاده مختلفه يحصل المستخدم نسبه حاله قيام عملاءه بجلب مستثمرين ينضمون لسلسله التجاريه بحيث يصبح اعلي قمه الهرم ولديه شبكه الزباءن المشتركين باسفله عملاء بالشراء طريقهم وشد المحامي ذاته القانون يعاقب المخالفات باحكام بالحبس وبالغرامه امكانيه الحكم مرتكبي المخالفه بارجاع المبالغ تم دفعها الزبناء الراضين يمكن لمحكمه تامر بتعليق حكمها نشره نفقه المحكوم بالكيفيه تقرها وختم المحامي بهيءه الرباط بان العقد المضي الكترونيا يعوض العقد المكتوب شريطه استيفاءه لشروط كمطابقه التوقيع لامضاء بخط اليد وغيرها اركان العقود والالتزامات ساره الغزواني قالت دخولها مجال التسويق الشبكي بغرض الاسراع ترتيبات الولوج يتطلبه مصاريف واضافت هواجس جمه تقض مضجعها بعيد ولوجها بورصه التسويق الهرمي واضعه هاجس اغلاق الشركه لابوابها وهجره اصحابها مقدمه العراقيل وزادت تجاره استثمار مخاطر فالمجازفه جزء العمل والفشل والربح موجودان جانبه قال بدر سليكه موظف بشركه ماليه مبدا التسويق الشبكي يقوم نظريه اسلوب بونزي شخص بالاستثمار النوع التعامل المالي خلال بدايات القرن العشرين وعزا بدر دخوله النوع المعاملات التجاريه بتفادي قرض بنكي ربوي وبانه فرصه لاستثمار قدر المال لشراء سياره حلال الاطار المالي الملم بشءون المال والاعمال قال مبدا حياته درس ابجدياته التويج بدبلوم الهندسه الماليه يقوم ارتباط الخطر بالربح بشكل وطيد فكلما هاجس الخساره كبيرا الربح اكبر وفق تعبيره المهندس الشاب حديث العهد بالتسويق الشبكي قال تمكن استرجاع نصف المبلغ المستثمر خلال نهجه استراتيجيه ذكيه يستثمر ثلثي الارباح ويكتفي بثلث يقوم بتحويله حسابه البنكي بهدف الاسراع تحصيل المبلغ الاجمالي المستثمر وضمانه المتحدث ذاته اضاف شركات التسويق الشبكي تبيع الوهم لمساهمين وذلك عبر مخاطبه لاوعي الراغبين الربح السريع وغالبيتهم الطبقه الباحثه مستوي افضل وقت وجيز معتبرا الخطا يرتكبه المستثمرون المبتدءون الرغبه الربح عبر استثمار الارباح التفكير توفير قسط لضمان راس المال المبدءي الياس لمرابط فاقر بوقوعه ضحيه نصب خلال تجربتين فاشلتين لشركتين الكترونيتين رغم توفره عقد مضي الكترونيا يربطه بشركه الشاب قال الشركه المهتمه بالاشهار المساهمين بساعه المكالمه الهاتفيه كربح شخص جديد يدخل ضمن سلسلته انه يحصل الوعود الياس اضاف زياره ميدانيه قادته مكتب الشركه المفترض بمدينه الدار البيضاء لاستفسار ضياع راسماله وتبد الوعود كشفت العنوان المتخذ مقرا لشركه موجود بالمره وقتها فقط علمت اني وقعت الفخ يقول لمرابط وتعليقا الموضوع الوجه القانونيه قال عبد الحق مجدوبي محام بهيءه الرباط القانون المغربي جرم عمليات التسويق الهرمي خلال القانون المنظم لتدابير حمايه المستهلك واضاف الماده تمنع البيع بشكل هرمي بايه طريقه ماثله سواء بعرض منتجات سلع خدمات المستهلك اغراءه بالحصول منتجات وخدمات بشكل مجاني بسعر يقل قيمتها الحقيقيه وبتعليق البيع توظيف سندات جمع اشتراكات تقيدات مجدوبي اوضح البيع تقديم خدمات بشكل هرمي يرغم المستهلكين جمع اشتراكات وتقيد نفسه قاءمه اغراءه بالحصول مكاسب ماليه ناتجه تزايد هندسي لعد الاشخاص المشتركين المقيدين\n",
            "2\n"
          ]
        },
        {
          "output_type": "stream",
          "name": "stderr",
          "text": [
            "/usr/local/lib/python3.10/dist-packages/ipykernel/ipkernel.py:283: DeprecationWarning: `should_run_async` will not call `transform_cell` automatically in the future. Please pass the result to `transformed_cell` argument and any exception that happen during thetransform in `preprocessing_exc_tuple` in IPython 7.17 and above.\n",
            "  and should_run_async(code)\n"
          ]
        }
      ]
    },
    {
      "cell_type": "code",
      "source": [
        "print(X_test_texts[7])\n",
        "print(y_pred_classes[7])"
      ],
      "metadata": {
        "colab": {
          "base_uri": "https://localhost:8080/"
        },
        "id": "XH2diPiTnQro",
        "outputId": "fdaddc11-c42e-4500-c836-296b8112e083"
      },
      "execution_count": null,
      "outputs": [
        {
          "output_type": "stream",
          "name": "stdout",
          "text": [
            "اطلق المغني المغربي بدري اغنيه سينغل جديده اختار عنوان طوم وجيري كلمات ﻣﺤﻤﺪ اﺷﺮف اديب ولحن محمد الرفاعي التوزيع فهو لموزع الموسيقي رشيد محمد علي ويظهر بدري خلال ملصق الاغنيه بلوك جديد ومختلف خلال تعامله المصور بدر بهجوب والرسوم انجاز بدر هماش الفيديو تصميم زاكي اغنيه طوم وجيري اثارت اعجاب رواد شبكات التواصل الاجتماعي فور طرحها القناه الرسميه بدري خلال استعماله لكلمات خفيفه ولحن وتوزيع جميلين تخرج النمط الساءد حاليا لاغنيه المغربيه والتي اصبحت تلقي انتشارا ونجاحا كبيرين بمختلف اقطار الوطن العربي الجدير بالذكر اغنيه طوم وجيري تاتي النجاح حقته اغنيه حاله حاله والتي عرفت انتشارا واسعا بالدول العربيه الخليج يذكر الفنان بدري مواليد الرباط ينتمي اسره فنيه تربي الموسيقي نعومه اظافره واحترف الغناء سن مبكره خريج المعهد الوطني لموسيقي وسبق المشاركه مهرجان الاغنيه العربيه بالقاهره سنه يختار الاقامه الخليج لاكثر سنوات تنقل خلالها الامارات العربيه المتحده وقطر ومصر وعمان والكويت احيا خلالها العديد السهرات اشتهر بغناءه لكل الالوان الانماط الغناءيه العربيه حفلات كانت تقام بافخم الفنادق بجانب اشهر الفنانين العرب\n",
            "0\n"
          ]
        },
        {
          "output_type": "stream",
          "name": "stderr",
          "text": [
            "/usr/local/lib/python3.10/dist-packages/ipykernel/ipkernel.py:283: DeprecationWarning: `should_run_async` will not call `transform_cell` automatically in the future. Please pass the result to `transformed_cell` argument and any exception that happen during thetransform in `preprocessing_exc_tuple` in IPython 7.17 and above.\n",
            "  and should_run_async(code)\n"
          ]
        }
      ]
    },
    {
      "cell_type": "code",
      "execution_count": null,
      "metadata": {
        "id": "_JBTimLKuXQi",
        "colab": {
          "base_uri": "https://localhost:8080/",
          "height": 355
        },
        "outputId": "922999d3-7e80-4866-f058-27e27adaaf78"
      },
      "outputs": [
        {
          "output_type": "stream",
          "name": "stderr",
          "text": [
            "/usr/local/lib/python3.10/dist-packages/ipykernel/ipkernel.py:283: DeprecationWarning: `should_run_async` will not call `transform_cell` automatically in the future. Please pass the result to `transformed_cell` argument and any exception that happen during thetransform in `preprocessing_exc_tuple` in IPython 7.17 and above.\n",
            "  and should_run_async(code)\n"
          ]
        },
        {
          "output_type": "execute_result",
          "data": {
            "text/plain": [
              "              precision    recall  f1-score      support\n",
              "0              0.944625  0.961326  0.952903   905.000000\n",
              "1              0.980392  0.925926  0.952381   918.000000\n",
              "2              0.910857  0.878721  0.894501   907.000000\n",
              "3              0.837597  0.891124  0.863532   845.000000\n",
              "4              0.971215  0.984865  0.977992   925.000000\n",
              "accuracy       0.929111  0.929111  0.929111     0.929111\n",
              "macro avg      0.928937  0.928392  0.928262  4500.000000\n",
              "weighted avg   0.930484  0.929111  0.929400  4500.000000"
            ],
            "text/html": [
              "\n",
              "  <div id=\"df-85061b64-22f0-4430-9650-9a8b8c11bc04\" class=\"colab-df-container\">\n",
              "    <div>\n",
              "<style scoped>\n",
              "    .dataframe tbody tr th:only-of-type {\n",
              "        vertical-align: middle;\n",
              "    }\n",
              "\n",
              "    .dataframe tbody tr th {\n",
              "        vertical-align: top;\n",
              "    }\n",
              "\n",
              "    .dataframe thead th {\n",
              "        text-align: right;\n",
              "    }\n",
              "</style>\n",
              "<table border=\"1\" class=\"dataframe\">\n",
              "  <thead>\n",
              "    <tr style=\"text-align: right;\">\n",
              "      <th></th>\n",
              "      <th>precision</th>\n",
              "      <th>recall</th>\n",
              "      <th>f1-score</th>\n",
              "      <th>support</th>\n",
              "    </tr>\n",
              "  </thead>\n",
              "  <tbody>\n",
              "    <tr>\n",
              "      <th>0</th>\n",
              "      <td>0.944625</td>\n",
              "      <td>0.961326</td>\n",
              "      <td>0.952903</td>\n",
              "      <td>905.000000</td>\n",
              "    </tr>\n",
              "    <tr>\n",
              "      <th>1</th>\n",
              "      <td>0.980392</td>\n",
              "      <td>0.925926</td>\n",
              "      <td>0.952381</td>\n",
              "      <td>918.000000</td>\n",
              "    </tr>\n",
              "    <tr>\n",
              "      <th>2</th>\n",
              "      <td>0.910857</td>\n",
              "      <td>0.878721</td>\n",
              "      <td>0.894501</td>\n",
              "      <td>907.000000</td>\n",
              "    </tr>\n",
              "    <tr>\n",
              "      <th>3</th>\n",
              "      <td>0.837597</td>\n",
              "      <td>0.891124</td>\n",
              "      <td>0.863532</td>\n",
              "      <td>845.000000</td>\n",
              "    </tr>\n",
              "    <tr>\n",
              "      <th>4</th>\n",
              "      <td>0.971215</td>\n",
              "      <td>0.984865</td>\n",
              "      <td>0.977992</td>\n",
              "      <td>925.000000</td>\n",
              "    </tr>\n",
              "    <tr>\n",
              "      <th>accuracy</th>\n",
              "      <td>0.929111</td>\n",
              "      <td>0.929111</td>\n",
              "      <td>0.929111</td>\n",
              "      <td>0.929111</td>\n",
              "    </tr>\n",
              "    <tr>\n",
              "      <th>macro avg</th>\n",
              "      <td>0.928937</td>\n",
              "      <td>0.928392</td>\n",
              "      <td>0.928262</td>\n",
              "      <td>4500.000000</td>\n",
              "    </tr>\n",
              "    <tr>\n",
              "      <th>weighted avg</th>\n",
              "      <td>0.930484</td>\n",
              "      <td>0.929111</td>\n",
              "      <td>0.929400</td>\n",
              "      <td>4500.000000</td>\n",
              "    </tr>\n",
              "  </tbody>\n",
              "</table>\n",
              "</div>\n",
              "    <div class=\"colab-df-buttons\">\n",
              "\n",
              "  <div class=\"colab-df-container\">\n",
              "    <button class=\"colab-df-convert\" onclick=\"convertToInteractive('df-85061b64-22f0-4430-9650-9a8b8c11bc04')\"\n",
              "            title=\"Convert this dataframe to an interactive table.\"\n",
              "            style=\"display:none;\">\n",
              "\n",
              "  <svg xmlns=\"http://www.w3.org/2000/svg\" height=\"24px\" viewBox=\"0 -960 960 960\">\n",
              "    <path d=\"M120-120v-720h720v720H120Zm60-500h600v-160H180v160Zm220 220h160v-160H400v160Zm0 220h160v-160H400v160ZM180-400h160v-160H180v160Zm440 0h160v-160H620v160ZM180-180h160v-160H180v160Zm440 0h160v-160H620v160Z\"/>\n",
              "  </svg>\n",
              "    </button>\n",
              "\n",
              "  <style>\n",
              "    .colab-df-container {\n",
              "      display:flex;\n",
              "      gap: 12px;\n",
              "    }\n",
              "\n",
              "    .colab-df-convert {\n",
              "      background-color: #E8F0FE;\n",
              "      border: none;\n",
              "      border-radius: 50%;\n",
              "      cursor: pointer;\n",
              "      display: none;\n",
              "      fill: #1967D2;\n",
              "      height: 32px;\n",
              "      padding: 0 0 0 0;\n",
              "      width: 32px;\n",
              "    }\n",
              "\n",
              "    .colab-df-convert:hover {\n",
              "      background-color: #E2EBFA;\n",
              "      box-shadow: 0px 1px 2px rgba(60, 64, 67, 0.3), 0px 1px 3px 1px rgba(60, 64, 67, 0.15);\n",
              "      fill: #174EA6;\n",
              "    }\n",
              "\n",
              "    .colab-df-buttons div {\n",
              "      margin-bottom: 4px;\n",
              "    }\n",
              "\n",
              "    [theme=dark] .colab-df-convert {\n",
              "      background-color: #3B4455;\n",
              "      fill: #D2E3FC;\n",
              "    }\n",
              "\n",
              "    [theme=dark] .colab-df-convert:hover {\n",
              "      background-color: #434B5C;\n",
              "      box-shadow: 0px 1px 3px 1px rgba(0, 0, 0, 0.15);\n",
              "      filter: drop-shadow(0px 1px 2px rgba(0, 0, 0, 0.3));\n",
              "      fill: #FFFFFF;\n",
              "    }\n",
              "  </style>\n",
              "\n",
              "    <script>\n",
              "      const buttonEl =\n",
              "        document.querySelector('#df-85061b64-22f0-4430-9650-9a8b8c11bc04 button.colab-df-convert');\n",
              "      buttonEl.style.display =\n",
              "        google.colab.kernel.accessAllowed ? 'block' : 'none';\n",
              "\n",
              "      async function convertToInteractive(key) {\n",
              "        const element = document.querySelector('#df-85061b64-22f0-4430-9650-9a8b8c11bc04');\n",
              "        const dataTable =\n",
              "          await google.colab.kernel.invokeFunction('convertToInteractive',\n",
              "                                                    [key], {});\n",
              "        if (!dataTable) return;\n",
              "\n",
              "        const docLinkHtml = 'Like what you see? Visit the ' +\n",
              "          '<a target=\"_blank\" href=https://colab.research.google.com/notebooks/data_table.ipynb>data table notebook</a>'\n",
              "          + ' to learn more about interactive tables.';\n",
              "        element.innerHTML = '';\n",
              "        dataTable['output_type'] = 'display_data';\n",
              "        await google.colab.output.renderOutput(dataTable, element);\n",
              "        const docLink = document.createElement('div');\n",
              "        docLink.innerHTML = docLinkHtml;\n",
              "        element.appendChild(docLink);\n",
              "      }\n",
              "    </script>\n",
              "  </div>\n",
              "\n",
              "\n",
              "<div id=\"df-b2c58994-5195-49df-a88a-607009eeda51\">\n",
              "  <button class=\"colab-df-quickchart\" onclick=\"quickchart('df-b2c58994-5195-49df-a88a-607009eeda51')\"\n",
              "            title=\"Suggest charts\"\n",
              "            style=\"display:none;\">\n",
              "\n",
              "<svg xmlns=\"http://www.w3.org/2000/svg\" height=\"24px\"viewBox=\"0 0 24 24\"\n",
              "     width=\"24px\">\n",
              "    <g>\n",
              "        <path d=\"M19 3H5c-1.1 0-2 .9-2 2v14c0 1.1.9 2 2 2h14c1.1 0 2-.9 2-2V5c0-1.1-.9-2-2-2zM9 17H7v-7h2v7zm4 0h-2V7h2v10zm4 0h-2v-4h2v4z\"/>\n",
              "    </g>\n",
              "</svg>\n",
              "  </button>\n",
              "\n",
              "<style>\n",
              "  .colab-df-quickchart {\n",
              "      --bg-color: #E8F0FE;\n",
              "      --fill-color: #1967D2;\n",
              "      --hover-bg-color: #E2EBFA;\n",
              "      --hover-fill-color: #174EA6;\n",
              "      --disabled-fill-color: #AAA;\n",
              "      --disabled-bg-color: #DDD;\n",
              "  }\n",
              "\n",
              "  [theme=dark] .colab-df-quickchart {\n",
              "      --bg-color: #3B4455;\n",
              "      --fill-color: #D2E3FC;\n",
              "      --hover-bg-color: #434B5C;\n",
              "      --hover-fill-color: #FFFFFF;\n",
              "      --disabled-bg-color: #3B4455;\n",
              "      --disabled-fill-color: #666;\n",
              "  }\n",
              "\n",
              "  .colab-df-quickchart {\n",
              "    background-color: var(--bg-color);\n",
              "    border: none;\n",
              "    border-radius: 50%;\n",
              "    cursor: pointer;\n",
              "    display: none;\n",
              "    fill: var(--fill-color);\n",
              "    height: 32px;\n",
              "    padding: 0;\n",
              "    width: 32px;\n",
              "  }\n",
              "\n",
              "  .colab-df-quickchart:hover {\n",
              "    background-color: var(--hover-bg-color);\n",
              "    box-shadow: 0 1px 2px rgba(60, 64, 67, 0.3), 0 1px 3px 1px rgba(60, 64, 67, 0.15);\n",
              "    fill: var(--button-hover-fill-color);\n",
              "  }\n",
              "\n",
              "  .colab-df-quickchart-complete:disabled,\n",
              "  .colab-df-quickchart-complete:disabled:hover {\n",
              "    background-color: var(--disabled-bg-color);\n",
              "    fill: var(--disabled-fill-color);\n",
              "    box-shadow: none;\n",
              "  }\n",
              "\n",
              "  .colab-df-spinner {\n",
              "    border: 2px solid var(--fill-color);\n",
              "    border-color: transparent;\n",
              "    border-bottom-color: var(--fill-color);\n",
              "    animation:\n",
              "      spin 1s steps(1) infinite;\n",
              "  }\n",
              "\n",
              "  @keyframes spin {\n",
              "    0% {\n",
              "      border-color: transparent;\n",
              "      border-bottom-color: var(--fill-color);\n",
              "      border-left-color: var(--fill-color);\n",
              "    }\n",
              "    20% {\n",
              "      border-color: transparent;\n",
              "      border-left-color: var(--fill-color);\n",
              "      border-top-color: var(--fill-color);\n",
              "    }\n",
              "    30% {\n",
              "      border-color: transparent;\n",
              "      border-left-color: var(--fill-color);\n",
              "      border-top-color: var(--fill-color);\n",
              "      border-right-color: var(--fill-color);\n",
              "    }\n",
              "    40% {\n",
              "      border-color: transparent;\n",
              "      border-right-color: var(--fill-color);\n",
              "      border-top-color: var(--fill-color);\n",
              "    }\n",
              "    60% {\n",
              "      border-color: transparent;\n",
              "      border-right-color: var(--fill-color);\n",
              "    }\n",
              "    80% {\n",
              "      border-color: transparent;\n",
              "      border-right-color: var(--fill-color);\n",
              "      border-bottom-color: var(--fill-color);\n",
              "    }\n",
              "    90% {\n",
              "      border-color: transparent;\n",
              "      border-bottom-color: var(--fill-color);\n",
              "    }\n",
              "  }\n",
              "</style>\n",
              "\n",
              "  <script>\n",
              "    async function quickchart(key) {\n",
              "      const quickchartButtonEl =\n",
              "        document.querySelector('#' + key + ' button');\n",
              "      quickchartButtonEl.disabled = true;  // To prevent multiple clicks.\n",
              "      quickchartButtonEl.classList.add('colab-df-spinner');\n",
              "      try {\n",
              "        const charts = await google.colab.kernel.invokeFunction(\n",
              "            'suggestCharts', [key], {});\n",
              "      } catch (error) {\n",
              "        console.error('Error during call to suggestCharts:', error);\n",
              "      }\n",
              "      quickchartButtonEl.classList.remove('colab-df-spinner');\n",
              "      quickchartButtonEl.classList.add('colab-df-quickchart-complete');\n",
              "    }\n",
              "    (() => {\n",
              "      let quickchartButtonEl =\n",
              "        document.querySelector('#df-b2c58994-5195-49df-a88a-607009eeda51 button');\n",
              "      quickchartButtonEl.style.display =\n",
              "        google.colab.kernel.accessAllowed ? 'block' : 'none';\n",
              "    })();\n",
              "  </script>\n",
              "</div>\n",
              "\n",
              "  <div id=\"id_9f6f8e36-cd18-44a8-adaf-d31579f878ab\">\n",
              "    <style>\n",
              "      .colab-df-generate {\n",
              "        background-color: #E8F0FE;\n",
              "        border: none;\n",
              "        border-radius: 50%;\n",
              "        cursor: pointer;\n",
              "        display: none;\n",
              "        fill: #1967D2;\n",
              "        height: 32px;\n",
              "        padding: 0 0 0 0;\n",
              "        width: 32px;\n",
              "      }\n",
              "\n",
              "      .colab-df-generate:hover {\n",
              "        background-color: #E2EBFA;\n",
              "        box-shadow: 0px 1px 2px rgba(60, 64, 67, 0.3), 0px 1px 3px 1px rgba(60, 64, 67, 0.15);\n",
              "        fill: #174EA6;\n",
              "      }\n",
              "\n",
              "      [theme=dark] .colab-df-generate {\n",
              "        background-color: #3B4455;\n",
              "        fill: #D2E3FC;\n",
              "      }\n",
              "\n",
              "      [theme=dark] .colab-df-generate:hover {\n",
              "        background-color: #434B5C;\n",
              "        box-shadow: 0px 1px 3px 1px rgba(0, 0, 0, 0.15);\n",
              "        filter: drop-shadow(0px 1px 2px rgba(0, 0, 0, 0.3));\n",
              "        fill: #FFFFFF;\n",
              "      }\n",
              "    </style>\n",
              "    <button class=\"colab-df-generate\" onclick=\"generateWithVariable('report_df')\"\n",
              "            title=\"Generate code using this dataframe.\"\n",
              "            style=\"display:none;\">\n",
              "\n",
              "  <svg xmlns=\"http://www.w3.org/2000/svg\" height=\"24px\"viewBox=\"0 0 24 24\"\n",
              "       width=\"24px\">\n",
              "    <path d=\"M7,19H8.4L18.45,9,17,7.55,7,17.6ZM5,21V16.75L18.45,3.32a2,2,0,0,1,2.83,0l1.4,1.43a1.91,1.91,0,0,1,.58,1.4,1.91,1.91,0,0,1-.58,1.4L9.25,21ZM18.45,9,17,7.55Zm-12,3A5.31,5.31,0,0,0,4.9,8.1,5.31,5.31,0,0,0,1,6.5,5.31,5.31,0,0,0,4.9,4.9,5.31,5.31,0,0,0,6.5,1,5.31,5.31,0,0,0,8.1,4.9,5.31,5.31,0,0,0,12,6.5,5.46,5.46,0,0,0,6.5,12Z\"/>\n",
              "  </svg>\n",
              "    </button>\n",
              "    <script>\n",
              "      (() => {\n",
              "      const buttonEl =\n",
              "        document.querySelector('#id_9f6f8e36-cd18-44a8-adaf-d31579f878ab button.colab-df-generate');\n",
              "      buttonEl.style.display =\n",
              "        google.colab.kernel.accessAllowed ? 'block' : 'none';\n",
              "\n",
              "      buttonEl.onclick = () => {\n",
              "        google.colab.notebook.generateWithVariable('report_df');\n",
              "      }\n",
              "      })();\n",
              "    </script>\n",
              "  </div>\n",
              "\n",
              "    </div>\n",
              "  </div>\n"
            ],
            "application/vnd.google.colaboratory.intrinsic+json": {
              "type": "dataframe",
              "variable_name": "report_df",
              "summary": "{\n  \"name\": \"report_df\",\n  \"rows\": 8,\n  \"fields\": [\n    {\n      \"column\": \"precision\",\n      \"properties\": {\n        \"dtype\": \"number\",\n        \"std\": 0.04367589468984995,\n        \"min\": 0.8375973303670745,\n        \"max\": 0.9803921568627451,\n        \"num_unique_values\": 8,\n        \"samples\": [\n          0.9803921568627451,\n          0.9291111111111111,\n          0.9446254071661238\n        ],\n        \"semantic_type\": \"\",\n        \"description\": \"\"\n      }\n    },\n    {\n      \"column\": \"recall\",\n      \"properties\": {\n        \"dtype\": \"number\",\n        \"std\": 0.03409393284703102,\n        \"min\": 0.8787210584343991,\n        \"max\": 0.9848648648648649,\n        \"num_unique_values\": 7,\n        \"samples\": [\n          0.9613259668508287,\n          0.9259259259259259,\n          0.9291111111111111\n        ],\n        \"semantic_type\": \"\",\n        \"description\": \"\"\n      }\n    },\n    {\n      \"column\": \"f1-score\",\n      \"properties\": {\n        \"dtype\": \"number\",\n        \"std\": 0.035843544447187015,\n        \"min\": 0.863532110091743,\n        \"max\": 0.977992485238862,\n        \"num_unique_values\": 8,\n        \"samples\": [\n          0.9523809523809523,\n          0.9291111111111111,\n          0.9529025191675794\n        ],\n        \"semantic_type\": \"\",\n        \"description\": \"\"\n      }\n    },\n    {\n      \"column\": \"support\",\n      \"properties\": {\n        \"dtype\": \"number\",\n        \"std\": 1763.505559363489,\n        \"min\": 0.9291111111111111,\n        \"max\": 4500.0,\n        \"num_unique_values\": 7,\n        \"samples\": [\n          905.0,\n          918.0,\n          0.9291111111111111\n        ],\n        \"semantic_type\": \"\",\n        \"description\": \"\"\n      }\n    }\n  ]\n}"
            }
          },
          "metadata": {},
          "execution_count": 35
        }
      ],
      "source": [
        "report = classification_report(y_test, y_pred_classes, output_dict=True)\n",
        "report_df = pd.DataFrame(report).transpose()\n",
        "report_df"
      ]
    },
    {
      "cell_type": "code",
      "execution_count": null,
      "metadata": {
        "colab": {
          "base_uri": "https://localhost:8080/"
        },
        "id": "W0yYBqxJuBvu",
        "outputId": "fbde3ff3-b180-4568-9b9c-e0252872e45f"
      },
      "outputs": [
        {
          "output_type": "stream",
          "name": "stderr",
          "text": [
            "/usr/local/lib/python3.10/dist-packages/ipykernel/ipkernel.py:283: DeprecationWarning: `should_run_async` will not call `transform_cell` automatically in the future. Please pass the result to `transformed_cell` argument and any exception that happen during thetransform in `preprocessing_exc_tuple` in IPython 7.17 and above.\n",
            "  and should_run_async(code)\n"
          ]
        },
        {
          "output_type": "execute_result",
          "data": {
            "text/plain": [
              "array([[1152,   16,   18,   47,   10],\n",
              "       [  17, 1156,    9,   13,    3],\n",
              "       [  20,    3, 1021,  112,    8],\n",
              "       [  35,   36,   84, 1040,    4],\n",
              "       [   9,    6,    8,    3, 1170]])"
            ]
          },
          "metadata": {},
          "execution_count": 48
        }
      ],
      "source": [
        "from sklearn.metrics import confusion_matrix\n",
        "confusion_matrix(y_test, y_pred_classes)"
      ]
    },
    {
      "cell_type": "code",
      "source": [
        "import matplotlib.pyplot as plt\n",
        "import numpy as np\n",
        "import seaborn as sns\n",
        "\n",
        "values = np.array([\n",
        "    [1152, 16, 18, 47, 10],\n",
        "    [17, 1156, 9, 13, 3],\n",
        "    [29, 3, 1021, 112, 8],\n",
        "    [35, 36, 84, 1040, 4],\n",
        "    [9, 6, 8, 3, 1170]\n",
        "])\n",
        "\n",
        "labels = ['sport', 'politics', 'culture', 'economy', 'diverse']\n",
        "\n",
        "plt.figure(figsize=(6, 4))\n",
        "sns.heatmap(values, annot=True, fmt='d', xticklabels=labels, yticklabels=labels, cmap='Blues')\n",
        "plt.ylabel('True Label')\n",
        "plt.xlabel('Predicted Label')\n",
        "plt.show()\n"
      ],
      "metadata": {
        "colab": {
          "base_uri": "https://localhost:8080/",
          "height": 388
        },
        "id": "81V_ruYjpvQC",
        "outputId": "23d66749-1a04-41d6-9a9f-8d5597d95435"
      },
      "execution_count": 1,
      "outputs": [
        {
          "output_type": "display_data",
          "data": {
            "text/plain": [
              "<Figure size 600x400 with 2 Axes>"
            ],
            "image/png": "[encoded data removed]"
          },
          "metadata": {}
        }
      ]
    },
    {
      "cell_type": "code",
      "execution_count": null,
      "metadata": {
        "id": "ulqQmK5rm4dY"
      },
      "outputs": [],
      "source": [
        "import tensorflow as tf\n",
        "tf.keras.backend.clear_session()\n"
      ]
    }
  ],
  "metadata": {
    "accelerator": "GPU",
    "colab": {
      "gpuType": "T4",
      "provenance": []
    },
    "kernelspec": {
      "display_name": "Python 3",
      "name": "python3"
    },
    "language_info": {
      "name": "python"
    }
  },
  "nbformat": 4,
  "nbformat_minor": 0
}